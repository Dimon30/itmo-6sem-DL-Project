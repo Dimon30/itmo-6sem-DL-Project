{
 "cells": [
  {
   "cell_type": "code",
   "execution_count": 21,
   "id": "bc90438a-cc2d-4668-b829-a2500d334166",
   "metadata": {
    "execution": {
     "iopub.execute_input": "2025-05-19T17:40:50.862381Z",
     "iopub.status.busy": "2025-05-19T17:40:50.861385Z",
     "iopub.status.idle": "2025-05-19T17:40:58.085954Z",
     "shell.execute_reply": "2025-05-19T17:40:58.085041Z",
     "shell.execute_reply.started": "2025-05-19T17:40:50.862342Z"
    },
    "tags": []
   },
   "outputs": [
    {
     "name": "stdout",
     "output_type": "stream",
     "text": [
      "Defaulting to user installation because normal site-packages is not writeable\n",
      "Requirement already satisfied: onnx in /home/jupyter/.local/lib/python3.10/site-packages (1.18.0)\n",
      "Requirement already satisfied: onnxruntime in /home/jupyter/.local/lib/python3.10/site-packages (1.22.0)\n",
      "Requirement already satisfied: numpy>=1.22 in /usr/local/lib/python3.10/dist-packages (from onnx) (1.22.4)\n",
      "Requirement already satisfied: protobuf>=4.25.1 in /home/jupyter/.local/lib/python3.10/site-packages (from onnx) (6.31.0)\n",
      "Requirement already satisfied: typing_extensions>=4.7.1 in /usr/local/lib/python3.10/dist-packages (from onnx) (4.7.1)\n",
      "Requirement already satisfied: coloredlogs in /home/jupyter/.local/lib/python3.10/site-packages (from onnxruntime) (15.0.1)\n",
      "Requirement already satisfied: flatbuffers in /usr/local/lib/python3.10/dist-packages (from onnxruntime) (23.5.26)\n",
      "Requirement already satisfied: packaging in /usr/local/lib/python3.10/dist-packages (from onnxruntime) (23.1)\n",
      "Requirement already satisfied: sympy in /usr/local/lib/python3.10/dist-packages (from onnxruntime) (1.11.1)\n",
      "Requirement already satisfied: humanfriendly>=9.1 in /home/jupyter/.local/lib/python3.10/site-packages (from coloredlogs->onnxruntime) (10.0)\n",
      "Requirement already satisfied: mpmath>=0.19 in /usr/local/lib/python3.10/dist-packages (from sympy->onnxruntime) (1.3.0)\n",
      "\n",
      "\u001B[1m[\u001B[0m\u001B[34;49mnotice\u001B[0m\u001B[1;39;49m]\u001B[0m\u001B[39;49m A new release of pip is available: \u001B[0m\u001B[31;49m23.0.1\u001B[0m\u001B[39;49m -> \u001B[0m\u001B[32;49m25.1.1\u001B[0m\n",
      "\u001B[1m[\u001B[0m\u001B[34;49mnotice\u001B[0m\u001B[1;39;49m]\u001B[0m\u001B[39;49m To update, run: \u001B[0m\u001B[32;49mpython3 -m pip install --upgrade pip\u001B[0m\n"
     ]
    }
   ],
   "source": "# pip install transformers==4.30.1 onnx onnxruntime"
  },
  {
   "cell_type": "code",
   "execution_count": 1,
   "id": "cfaf10f28e9443bc",
   "metadata": {
    "execution": {
     "iopub.execute_input": "2025-05-19T09:51:43.248170Z",
     "iopub.status.busy": "2025-05-19T09:51:43.247134Z",
     "iopub.status.idle": "2025-05-19T09:51:48.035399Z",
     "shell.execute_reply": "2025-05-19T09:51:48.034605Z",
     "shell.execute_reply.started": "2025-05-19T09:51:43.248132Z"
    },
    "tags": []
   },
   "outputs": [
    {
     "name": "stderr",
     "output_type": "stream",
     "text": [
      "2025-05-19 09:51:47.387125: W tensorflow/compiler/tf2tensorrt/utils/py_utils.cc:38] TF-TRT Warning: Could not find TensorRT\n"
     ]
    }
   ],
   "source": [
    "import os\n",
    "import torch\n",
    "import torch.nn as nn\n",
    "import albumentations as A\n",
    "import numpy as np\n",
    "from PIL import Image\n",
    "from torch.utils.data import Dataset, DataLoader\n",
    "from transformers import  SwinForImageClassification, SwinConfig\n",
    "from torch.optim import AdamW\n",
    "from albumentations.pytorch import ToTensorV2\n",
    "from sklearn.metrics import accuracy_score, f1_score\n",
    "\n",
    "from torch.cuda.amp import autocast, GradScaler\n",
    "import requests\n",
    "from tqdm import tqdm\n",
    "import matplotlib.pyplot as plt\n",
    "from sklearn.utils.class_weight import compute_class_weight"
   ]
  },
  {
   "cell_type": "code",
   "execution_count": 2,
   "id": "5b85570b7d84b39f",
   "metadata": {
    "ExecuteTime": {
     "end_time": "2025-05-17T13:51:58.279261Z",
     "start_time": "2025-05-17T13:51:58.253938Z"
    },
    "execution": {
     "iopub.execute_input": "2025-05-19T09:51:48.038013Z",
     "iopub.status.busy": "2025-05-19T09:51:48.036862Z",
     "iopub.status.idle": "2025-05-19T09:51:48.054501Z",
     "shell.execute_reply": "2025-05-19T09:51:48.053811Z",
     "shell.execute_reply.started": "2025-05-19T09:51:48.037983Z"
    },
    "tags": []
   },
   "outputs": [
    {
     "data": {
      "text/plain": [
       "'2.0.1+cu118'"
      ]
     },
     "execution_count": 2,
     "metadata": {},
     "output_type": "execute_result"
    }
   ],
   "source": [
    "torch.__version__"
   ]
  },
  {
   "metadata": {},
   "cell_type": "markdown",
   "source": "Создаем переменные конфигурации",
   "id": "7ff5bde2e38be2dc"
  },
  {
   "cell_type": "code",
   "execution_count": 3,
   "id": "4a59f002ce6f8dc1",
   "metadata": {
    "ExecuteTime": {
     "end_time": "2025-05-17T12:42:22.712757Z",
     "start_time": "2025-05-17T12:42:22.706303Z"
    },
    "execution": {
     "iopub.execute_input": "2025-05-19T09:51:48.056233Z",
     "iopub.status.busy": "2025-05-19T09:51:48.055591Z",
     "iopub.status.idle": "2025-05-19T09:51:48.066485Z",
     "shell.execute_reply": "2025-05-19T09:51:48.065805Z",
     "shell.execute_reply.started": "2025-05-19T09:51:48.056208Z"
    },
    "tags": []
   },
   "outputs": [],
   "source": [
    "train_path = \"split_dataset/train\"\n",
    "val_path = \"split_dataset/val\"\n",
    "test_path = \"split_dataset/test\""
   ]
  },
  {
   "cell_type": "code",
   "execution_count": 4,
   "id": "59ed7040ad9566ef",
   "metadata": {
    "ExecuteTime": {
     "end_time": "2025-05-17T12:42:22.955060Z",
     "start_time": "2025-05-17T12:42:22.947884Z"
    },
    "execution": {
     "iopub.execute_input": "2025-05-19T09:51:48.068918Z",
     "iopub.status.busy": "2025-05-19T09:51:48.068225Z",
     "iopub.status.idle": "2025-05-19T09:51:48.095290Z",
     "shell.execute_reply": "2025-05-19T09:51:48.094532Z",
     "shell.execute_reply.started": "2025-05-19T09:51:48.068894Z"
    },
    "tags": []
   },
   "outputs": [],
   "source": [
    "# Конфигурация\n",
    "config = {\n",
    "    \"model_name\": \"microsoft/swin-base-patch4-window7-224\",\n",
    "    \"img_size\": 224,\n",
    "    \"batch_size\": 64,\n",
    "    \"epochs\": 10,\n",
    "    \"lr\": 3e-5,\n",
    "    \"num_workers\": 4,\n",
    "    \"device\": \"cuda\" if torch.cuda.is_available() else \"cpu\"\n",
    "}"
   ]
  },
  {
   "metadata": {},
   "cell_type": "markdown",
   "source": "Создаем аугментационный пайплайн",
   "id": "a3b665d5b6fbe99c"
  },
  {
   "cell_type": "code",
   "execution_count": 5,
   "id": "1de5e9d9271fa880",
   "metadata": {
    "ExecuteTime": {
     "end_time": "2025-05-17T12:42:23.439569Z",
     "start_time": "2025-05-17T12:42:23.420844Z"
    },
    "execution": {
     "iopub.execute_input": "2025-05-19T09:51:48.096704Z",
     "iopub.status.busy": "2025-05-19T09:51:48.096091Z",
     "iopub.status.idle": "2025-05-19T09:51:48.107524Z",
     "shell.execute_reply": "2025-05-19T09:51:48.106759Z",
     "shell.execute_reply.started": "2025-05-19T09:51:48.096663Z"
    },
    "tags": []
   },
   "outputs": [],
   "source": [
    "# Аугментации с Albumentations\n",
    "train_transform = A.Compose([\n",
    "    A.Resize(config['img_size'], config['img_size']),\n",
    "    A.HorizontalFlip(p=0.5),\n",
    "    A.VerticalFlip(p=0.2),\n",
    "    A.Rotate(limit=20, p=0.3),\n",
    "    A.RandomBrightnessContrast(p=0.3),\n",
    "    A.Normalize(mean=[0.5, 0.5, 0.5], std=[0.5, 0.5, 0.5]),\n",
    "    ToTensorV2()\n",
    "])\n",
    "\n",
    "val_transform = A.Compose([\n",
    "    A.Resize(config['img_size'], config['img_size']),\n",
    "    A.Normalize(mean=[0.5, 0.5, 0.5], std=[0.5, 0.5, 0.5]),\n",
    "    ToTensorV2()\n",
    "])\n",
    "\n",
    "test_transform = A.Compose([\n",
    "    A.Resize(config['img_size'], config['img_size']),\n",
    "    A.Normalize(mean=[0.5, 0.5, 0.5], std=[0.5, 0.5, 0.5]),\n",
    "    ToTensorV2()\n",
    "])"
   ]
  },
  {
   "metadata": {},
   "cell_type": "markdown",
   "source": "Создание датасета",
   "id": "d822db0a16e31a53"
  },
  {
   "cell_type": "code",
   "execution_count": 6,
   "id": "c194bd260327997f",
   "metadata": {
    "ExecuteTime": {
     "end_time": "2025-05-17T12:42:23.817207Z",
     "start_time": "2025-05-17T12:42:23.804284Z"
    },
    "execution": {
     "iopub.execute_input": "2025-05-19T09:51:48.109281Z",
     "iopub.status.busy": "2025-05-19T09:51:48.108455Z",
     "iopub.status.idle": "2025-05-19T09:51:48.121820Z",
     "shell.execute_reply": "2025-05-19T09:51:48.121079Z",
     "shell.execute_reply.started": "2025-05-19T09:51:48.109232Z"
    },
    "tags": []
   },
   "outputs": [],
   "source": [
    "class CustomDataset(Dataset):\n",
    "    def __init__(self, root_dir, transform=None):\n",
    "        self.classes = sorted(os.listdir(root_dir))\n",
    "        self.class_to_idx = {cls: i for i, cls in enumerate(self.classes)}\n",
    "        self.get_class = {i: cls for i, cls in enumerate(self.classes)}\n",
    "        self.samples = []\n",
    "        self.transform = transform\n",
    "\n",
    "        for cls in self.classes:\n",
    "            cls_dir = os.path.join(root_dir, cls)\n",
    "            for img_name in os.listdir(cls_dir):\n",
    "                self.samples.append((\n",
    "                    os.path.join(cls_dir, img_name),\n",
    "                    self.class_to_idx[cls]\n",
    "                ))\n",
    "        self.targets = np.unique([label for _, label in self.samples])\n",
    "\n",
    "    def __len__(self):\n",
    "        return len(self.samples)\n",
    "\n",
    "    def __getitem__(self, idx):\n",
    "        img_path, label = self.samples[idx]\n",
    "        image = np.array(Image.open(img_path).convert(\"RGB\"))\n",
    "\n",
    "        if self.transform:\n",
    "            augmented = self.transform(image=image)\n",
    "            image = augmented[\"image\"]\n",
    "\n",
    "        return image, torch.tensor(label, dtype=torch.long)"
   ]
  },
  {
   "cell_type": "code",
   "execution_count": 7,
   "id": "4d2a2ba6c5628334",
   "metadata": {
    "ExecuteTime": {
     "end_time": "2025-05-17T12:42:25.578757Z",
     "start_time": "2025-05-17T12:42:24.164190Z"
    },
    "execution": {
     "iopub.execute_input": "2025-05-19T09:51:48.123797Z",
     "iopub.status.busy": "2025-05-19T09:51:48.122665Z",
     "iopub.status.idle": "2025-05-19T09:51:48.671660Z",
     "shell.execute_reply": "2025-05-19T09:51:48.670866Z",
     "shell.execute_reply.started": "2025-05-19T09:51:48.123762Z"
    },
    "tags": []
   },
   "outputs": [],
   "source": [
    "# Инициализация данных\n",
    "train_dataset = CustomDataset(\n",
    "    train_path,\n",
    "    transform=train_transform\n",
    ")\n",
    "val_dataset = CustomDataset(\n",
    "    val_path,\n",
    "    transform=val_transform\n",
    ")\n",
    "\n",
    "\n",
    "train_loader = DataLoader(\n",
    "    train_dataset,\n",
    "    batch_size=config['batch_size'],\n",
    "    shuffle=True,\n",
    "    num_workers=config['num_workers']\n",
    ")\n",
    "val_loader = DataLoader(\n",
    "    val_dataset,\n",
    "    batch_size=config['batch_size'],\n",
    "    shuffle=False,\n",
    "    num_workers=config['num_workers']\n",
    ")"
   ]
  },
  {
   "metadata": {},
   "cell_type": "markdown",
   "source": "Загрузка модели и добавление регуляризации",
   "id": "1f4786a236e6949c"
  },
  {
   "cell_type": "code",
   "execution_count": 8,
   "id": "377fa86b708c42bd",
   "metadata": {
    "ExecuteTime": {
     "end_time": "2025-05-17T12:42:30.664725Z",
     "start_time": "2025-05-17T12:42:26.073771Z"
    },
    "execution": {
     "iopub.execute_input": "2025-05-19T09:51:48.673596Z",
     "iopub.status.busy": "2025-05-19T09:51:48.672663Z",
     "iopub.status.idle": "2025-05-19T09:51:49.929770Z",
     "shell.execute_reply": "2025-05-19T09:51:49.928951Z",
     "shell.execute_reply.started": "2025-05-19T09:51:48.673571Z"
    },
    "tags": []
   },
   "outputs": [
    {
     "name": "stderr",
     "output_type": "stream",
     "text": [
      "/home/jupyter/.local/lib/python3.10/site-packages/huggingface_hub/file_download.py:943: FutureWarning: `resume_download` is deprecated and will be removed in version 1.0.0. Downloads always resume when possible. If you want to force a new download, use `force_download=True`.\n",
      "  warnings.warn(\n",
      "Some weights of SwinForImageClassification were not initialized from the model checkpoint at microsoft/swin-base-patch4-window7-224 and are newly initialized because the shapes did not match:\n",
      "- classifier.bias: found shape torch.Size([1000]) in the checkpoint and torch.Size([144]) in the model instantiated\n",
      "- classifier.weight: found shape torch.Size([1000, 1024]) in the checkpoint and torch.Size([144, 1024]) in the model instantiated\n",
      "You should probably TRAIN this model on a down-stream task to be able to use it for predictions and inference.\n"
     ]
    }
   ],
   "source": [
    "model_config = SwinConfig.from_pretrained(\n",
    "    config['model_name'],\n",
    "    num_labels=len(train_dataset.classes)\n",
    ")\n",
    "model_config.hidden_dropout_prob = 0.2               \n",
    "model_config.attention_probs_dropout_prob = 0.1      \n",
    "\n",
    "model = SwinForImageClassification.from_pretrained(\n",
    "    config['model_name'],\n",
    "    config=model_config,\n",
    "    ignore_mismatched_sizes=True\n",
    ").to(config[\"device\"])"
   ]
  },
  {
   "metadata": {},
   "cell_type": "markdown",
   "source": "Балансировка лосс-функции",
   "id": "6d371781ab984f6c"
  },
  {
   "cell_type": "code",
   "execution_count": 9,
   "id": "a8d2ffbd-8f9b-496f-99f8-e3a6bcf0f019",
   "metadata": {
    "execution": {
     "iopub.execute_input": "2025-05-19T09:51:49.931465Z",
     "iopub.status.busy": "2025-05-19T09:51:49.930852Z",
     "iopub.status.idle": "2025-05-19T09:51:49.966156Z",
     "shell.execute_reply": "2025-05-19T09:51:49.965351Z",
     "shell.execute_reply.started": "2025-05-19T09:51:49.931440Z"
    },
    "tags": []
   },
   "outputs": [],
   "source": [
    "class_weights = compute_class_weight(\n",
    "    class_weight='balanced',\n",
    "    classes=np.arange(len(train_dataset.classes)),\n",
    "    y=train_dataset.targets  # или y=все метки train датасета\n",
    ")\n",
    "weights_tensor = torch.tensor(class_weights, dtype=torch.float).to(config['device'])\n",
    "\n",
    "# 3. Заменяем встроенный лосс\n",
    "model.loss = nn.CrossEntropyLoss(weight=weights_tensor)"
   ]
  },
  {
   "metadata": {},
   "cell_type": "markdown",
   "source": "Создание оптимизатора",
   "id": "5671caa5a106bbc7"
  },
  {
   "cell_type": "code",
   "execution_count": 10,
   "id": "eaf2df6994bc3496",
   "metadata": {
    "ExecuteTime": {
     "end_time": "2025-05-17T12:42:30.683669Z",
     "start_time": "2025-05-17T12:42:30.674696Z"
    },
    "execution": {
     "iopub.execute_input": "2025-05-19T09:51:49.968559Z",
     "iopub.status.busy": "2025-05-19T09:51:49.968074Z",
     "iopub.status.idle": "2025-05-19T09:51:50.014586Z",
     "shell.execute_reply": "2025-05-19T09:51:50.013758Z",
     "shell.execute_reply.started": "2025-05-19T09:51:49.968533Z"
    },
    "tags": []
   },
   "outputs": [],
   "source": [
    "optimizer = AdamW([\n",
    "    {\"params\": model.swin.parameters(), \"lr\": 3e-5},\n",
    "    {\"params\": model.classifier.parameters(), \"lr\": 2e-4},\n",
    "], weight_decay=0.01)"
   ]
  },
  {
   "metadata": {},
   "cell_type": "markdown",
   "source": "Обучение модели",
   "id": "ec7c4c02f1f968c5"
  },
  {
   "cell_type": "code",
   "execution_count": 11,
   "id": "133bda6ea7b172e4",
   "metadata": {
    "ExecuteTime": {
     "end_time": "2025-05-17T12:42:31.106661Z",
     "start_time": "2025-05-17T12:42:31.088512Z"
    },
    "execution": {
     "iopub.execute_input": "2025-05-19T09:51:50.016078Z",
     "iopub.status.busy": "2025-05-19T09:51:50.015612Z",
     "iopub.status.idle": "2025-05-19T09:51:50.052999Z",
     "shell.execute_reply": "2025-05-19T09:51:50.052137Z",
     "shell.execute_reply.started": "2025-05-19T09:51:50.016054Z"
    },
    "tags": []
   },
   "outputs": [],
   "source": [
    "def train_model(model, train_loader, val_loader, optimizer, config):\n",
    "    device = config['device']\n",
    "    epochs = config['epochs']\n",
    "    scaler = GradScaler()\n",
    "\n",
    "    history = {'train_loss': [], 'val_loss': [],\n",
    "               'train_acc': [], 'val_acc': [],\n",
    "               'train_f1': [], 'val_f1': []}\n",
    "    for epoch in range(epochs):\n",
    "        # Training\n",
    "        model.train()\n",
    "        train_loss = 0\n",
    "        train_preds = []\n",
    "        train_labels = []\n",
    "\n",
    "        with tqdm(train_loader,\n",
    "                  unit=\"batch\",\n",
    "                  desc=f\"Epoch {epoch+1}/{epochs} [Train]\") as tepoch:\n",
    "            for images, labels in tepoch:\n",
    "                images = images.to(device)\n",
    "                labels = labels.to(device)\n",
    "\n",
    "                optimizer.zero_grad()\n",
    "                with autocast():\n",
    "                    outputs = model(pixel_values=images, labels=labels)\n",
    "                    loss = outputs.loss\n",
    "                \n",
    "                scaler.scale(loss).backward()\n",
    "                scaler.step(optimizer)\n",
    "                scaler.update()\n",
    "\n",
    "                # loss.backward()\n",
    "                # optimizer.step()\n",
    "\n",
    "                train_loss += loss.item()\n",
    "                preds = torch.argmax(outputs.logits, dim=1)\n",
    "\n",
    "                train_preds.extend(preds.cpu().numpy())\n",
    "                train_labels.extend(labels.cpu().numpy())\n",
    "                tepoch.set_postfix({\n",
    "                    'loss': loss.item(),\n",
    "                    'acc': accuracy_score(train_labels, train_preds),\n",
    "                    'f1': f1_score(train_labels, train_preds, average='weighted')\n",
    "                })\n",
    "\n",
    "        # Validation\n",
    "        model.eval()\n",
    "        val_loss = 0\n",
    "        val_preds = []\n",
    "        val_labels = []\n",
    "\n",
    "        with torch.no_grad(), tqdm(val_loader, unit=\"batch\", desc=f\"Epoch {epoch+1}/{epochs} [Val]\") as tepoch:\n",
    "            for images, labels in tepoch:\n",
    "                images = images.to(device)\n",
    "                labels = labels.to(device)\n",
    "\n",
    "                outputs = model(pixel_values=images, labels=labels)\n",
    "                val_loss += outputs.loss.item()\n",
    "\n",
    "                preds = torch.argmax(outputs.logits, dim=1)\n",
    "                val_preds.extend(preds.cpu().numpy())\n",
    "                val_labels.extend(labels.cpu().numpy())\n",
    "\n",
    "                tepoch.set_postfix({\n",
    "                    'val_loss': loss.item(),\n",
    "                    'val_acc': accuracy_score(val_labels, val_preds),\n",
    "                    'val_f1': f1_score(val_labels, val_preds, average='weighted')\n",
    "                })\n",
    "\n",
    "        # Метрики\n",
    "        train_loss = train_loss / len(train_loader)\n",
    "        val_loss = val_loss / len(val_loader)\n",
    "        train_acc = accuracy_score(train_labels, train_preds)\n",
    "        val_acc = accuracy_score(val_labels, val_preds)\n",
    "        train_f1 = f1_score(train_labels, train_preds, average='weighted')\n",
    "        val_f1 = f1_score(val_labels, val_preds, average='weighted')\n",
    "\n",
    "        history['train_loss'].append(train_loss)\n",
    "        history['val_loss'].append(val_loss)\n",
    "        history['train_acc'].append(train_acc)\n",
    "        history['val_acc'].append(val_acc)\n",
    "        history['train_f1'].append(train_f1)\n",
    "        history['val_f1'].append(val_f1)\n",
    "\n",
    "    return history"
   ]
  },
  {
   "metadata": {},
   "cell_type": "markdown",
   "source": "Вывод и сохранение метрик во время обучения",
   "id": "84e70e7513d5b25b"
  },
  {
   "cell_type": "code",
   "execution_count": 12,
   "id": "1d4a22cd-1f6e-4846-9b65-fead986439d9",
   "metadata": {
    "execution": {
     "iopub.execute_input": "2025-05-19T09:51:50.054456Z",
     "iopub.status.busy": "2025-05-19T09:51:50.054021Z",
     "iopub.status.idle": "2025-05-19T09:51:50.079158Z",
     "shell.execute_reply": "2025-05-19T09:51:50.078402Z",
     "shell.execute_reply.started": "2025-05-19T09:51:50.054424Z"
    },
    "tags": []
   },
   "outputs": [],
   "source": [
    "def plot_training_history(history):\n",
    "    epochs = range(1, len(history['train_loss']) + 1)\n",
    "\n",
    "    plt.figure(figsize=(18, 5))\n",
    "\n",
    "    # 1. Loss\n",
    "    plt.subplot(1, 3, 1)\n",
    "    plt.plot(epochs, history['train_loss'], label='Train Loss')\n",
    "    plt.plot(epochs, history['val_loss'], label='Val Loss')\n",
    "    plt.xlabel('Epoch')\n",
    "    plt.ylabel('Loss')\n",
    "    plt.title('Loss per Epoch')\n",
    "    plt.legend()\n",
    "    plt.grid(True)\n",
    "\n",
    "    # 2. Accuracy\n",
    "    plt.subplot(1, 3, 2)\n",
    "    plt.plot(epochs, history['train_acc'], label='Train Acc')\n",
    "    plt.plot(epochs, history['val_acc'], label='Val Acc')\n",
    "    plt.xlabel('Epoch')\n",
    "    plt.ylabel('Accuracy')\n",
    "    plt.title('Accuracy per Epoch')\n",
    "    plt.legend()\n",
    "    plt.grid(True)\n",
    "\n",
    "    # 3. F1-score\n",
    "    plt.subplot(1, 3, 3)\n",
    "    plt.plot(epochs, history['train_f1'], label='Train F1')\n",
    "    plt.plot(epochs, history['val_f1'], label='Val F1')\n",
    "    plt.xlabel('Epoch')\n",
    "    plt.ylabel('F1-score')\n",
    "    plt.title('F1-score per Epoch')\n",
    "    plt.legend()\n",
    "    plt.grid(True)\n",
    "\n",
    "    plt.tight_layout()\n",
    "    plt.savefig(\"swin_history.png\")\n",
    "    plt.show()"
   ]
  },
  {
   "cell_type": "code",
   "execution_count": null,
   "id": "4febbeea12337f83",
   "metadata": {
    "ExecuteTime": {
     "end_time": "2025-05-17T13:05:51.595533500Z",
     "start_time": "2025-05-17T12:42:31.823845Z"
    },
    "execution": {
     "iopub.execute_input": "2025-05-19T09:51:50.080756Z",
     "iopub.status.busy": "2025-05-19T09:51:50.080100Z"
    },
    "tags": []
   },
   "outputs": [
    {
     "name": "stderr",
     "output_type": "stream",
     "text": [
      "Epoch 2/10 [Train]: 100%|██████████| 2988/2988 [37:23<00:00,  1.33batch/s, loss=2.91, acc=0.296, f1=0.238] \n",
      "Epoch 2/10 [Val]: 100%|██████████| 747/747 [05:52<00:00,  2.12batch/s, val_loss=2.91, val_acc=0.314, val_f1=0.257] \n",
      "Epoch 3/10 [Train]: 100%|██████████| 2988/2988 [37:34<00:00,  1.33batch/s, loss=2.4, acc=0.33, f1=0.283]  \n",
      "Epoch 3/10 [Val]: 100%|██████████| 747/747 [05:52<00:00,  2.12batch/s, val_loss=2.4, val_acc=0.329, val_f1=0.277]\n",
      "Epoch 4/10 [Train]: 100%|██████████| 2988/2988 [37:45<00:00,  1.32batch/s, loss=2.54, acc=0.363, f1=0.324]\n",
      "Epoch 4/10 [Val]: 100%|██████████| 747/747 [05:52<00:00,  2.12batch/s, val_loss=2.54, val_acc=0.337, val_f1=0.305]\n",
      "Epoch 5/10 [Val]: 100%|██████████| 747/747 [05:52<00:00,  2.12batch/s, val_loss=2.7, val_acc=0.338, val_f1=0.307]\n",
      "Epoch 7/10 [Train]: 100%|██████████| 2988/2988 [37:44<00:00,  1.32batch/s, loss=1.79, acc=0.478, f1=0.459]  \n",
      "Epoch 7/10 [Val]: 100%|██████████| 747/747 [05:52<00:00,  2.12batch/s, val_loss=1.79, val_acc=0.334, val_f1=0.309]\n",
      "Epoch 8/10 [Train]: 100%|██████████| 2988/2988 [39:34<00:00,  1.26batch/s, loss=1.61, acc=0.525, f1=0.511]  \n",
      "Epoch 9/10 [Train]: 100%|██████████| 2988/2988 [37:56<00:00,  1.31batch/s, loss=1.31, acc=0.577, f1=0.567]0.287]  \n",
      "Epoch 9/10 [Val]: 100%|██████████| 747/747 [05:53<00:00,  2.12batch/s, val_loss=1.31, val_acc=0.322, val_f1=0.308]\n",
      "Epoch 10/10 [Train]:  98%|█████████▊| 2928/2988 [37:01<00:54,  1.10batch/s, loss=1.5, acc=0.631, f1=0.625]  "
     ]
    }
   ],
   "source": [
    "history = train_model(model, train_loader, val_loader, optimizer, config)"
   ]
  },
  {
   "cell_type": "code",
   "execution_count": 17,
   "id": "4bbf5bbce5d837d9",
   "metadata": {
    "execution": {
     "iopub.execute_input": "2025-05-19T17:39:08.889572Z",
     "iopub.status.busy": "2025-05-19T17:39:08.888640Z",
     "iopub.status.idle": "2025-05-19T17:39:09.681620Z",
     "shell.execute_reply": "2025-05-19T17:39:09.680813Z",
     "shell.execute_reply.started": "2025-05-19T17:39:08.889531Z"
    },
    "tags": []
   },
   "outputs": [
    {
     "data": {
      "image/png": "[encoded data removed]",
      "text/plain": [
       "<Figure size 1800x500 with 3 Axes>"
      ]
     },
     "metadata": {},
     "output_type": "display_data"
    }
   ],
   "source": [
    "plot_training_history(history)"
   ]
  },
  {
   "metadata": {},
   "cell_type": "markdown",
   "source": "Сохранение модели",
   "id": "d17366d903bba1af"
  },
  {
   "cell_type": "code",
   "execution_count": 22,
   "id": "a97a93f2c5ccdd29",
   "metadata": {
    "ExecuteTime": {
     "end_time": "2025-05-15T23:17:10.365622Z",
     "start_time": "2025-05-15T23:17:08.323475Z"
    },
    "execution": {
     "iopub.execute_input": "2025-05-19T17:41:23.363156Z",
     "iopub.status.busy": "2025-05-19T17:41:23.361875Z",
     "iopub.status.idle": "2025-05-19T17:42:57.483845Z",
     "shell.execute_reply": "2025-05-19T17:42:57.482091Z",
     "shell.execute_reply.started": "2025-05-19T17:41:23.363104Z"
    },
    "tags": []
   },
   "outputs": [
    {
     "name": "stdout",
     "output_type": "stream",
     "text": [
      "============= Diagnostic Run torch.onnx.export version 2.0.1+cu118 =============\n",
      "verbose: False, log level: Level.ERROR\n",
      "======================= 0 NONE 0 NOTE 0 WARNING 0 ERROR ========================\n",
      "\n"
     ]
    }
   ],
   "source": [
    "model.eval().cpu()\n",
    "dummy_input = torch.randn(1, 3, 224, 224)\n",
    "torch.onnx.export(\n",
    "    model,\n",
    "    dummy_input,\n",
    "    \"models/swin_model.onnx\",\n",
    "    input_names=[\"pixel_values\"],\n",
    "    output_names=[\"logits\"],\n",
    "    dynamic_axes={\"pixel_values\": {0: \"batch_size\"}, \"logits\": {0: \"batch_size\"}},\n",
    "    opset_version=11\n",
    ")"
   ]
  }
 ],
 "metadata": {
  "kernelspec": {
   "display_name": "DataSphere Kernel",
   "language": "python",
   "name": "python3"
  },
  "language_info": {
   "codemirror_mode": {
    "name": "ipython",
    "version": 3
   },
   "file_extension": ".py",
   "mimetype": "text/x-python",
   "name": "python",
   "nbconvert_exporter": "python",
   "pygments_lexer": "ipython3",
   "version": "3.10.12"
  }
 },
 "nbformat": 4,
 "nbformat_minor": 5
}
