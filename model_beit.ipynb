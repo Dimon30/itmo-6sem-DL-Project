{
 "cells": [
  {
   "cell_type": "code",
   "execution_count": 34,
   "id": "bc90438a-cc2d-4668-b829-a2500d334166",
   "metadata": {
    "execution": {
     "iopub.execute_input": "2025-05-19T15:53:35.845166Z",
     "iopub.status.busy": "2025-05-19T15:53:35.844339Z",
     "iopub.status.idle": "2025-05-19T15:53:56.573511Z",
     "shell.execute_reply": "2025-05-19T15:53:56.572789Z",
     "shell.execute_reply.started": "2025-05-19T15:53:35.845131Z"
    },
    "tags": []
   },
   "outputs": [
    {
     "name": "stdout",
     "output_type": "stream",
     "text": [
      "Defaulting to user installation because normal site-packages is not writeable\n",
      "Collecting onnxruntime\n",
      "  Downloading onnxruntime-1.22.0-cp310-cp310-manylinux_2_27_x86_64.manylinux_2_28_x86_64.whl.metadata (4.5 kB)\n",
      "Collecting coloredlogs (from onnxruntime)\n",
      "  Downloading coloredlogs-15.0.1-py2.py3-none-any.whl.metadata (12 kB)\n",
      "Requirement already satisfied: flatbuffers in /usr/local/lib/python3.10/dist-packages (from onnxruntime) (23.5.26)\n",
      "Requirement already satisfied: numpy>=1.21.6 in /usr/local/lib/python3.10/dist-packages (from onnxruntime) (1.22.4)\n",
      "Requirement already satisfied: packaging in /usr/local/lib/python3.10/dist-packages (from onnxruntime) (23.1)\n",
      "Requirement already satisfied: protobuf in /home/jupyter/.local/lib/python3.10/site-packages (from onnxruntime) (6.31.0)\n",
      "Requirement already satisfied: sympy in /usr/local/lib/python3.10/dist-packages (from onnxruntime) (1.11.1)\n",
      "Collecting humanfriendly>=9.1 (from coloredlogs->onnxruntime)\n",
      "  Downloading humanfriendly-10.0-py2.py3-none-any.whl.metadata (9.2 kB)\n",
      "Requirement already satisfied: mpmath>=0.19 in /usr/local/lib/python3.10/dist-packages (from sympy->onnxruntime) (1.3.0)\n",
      "Downloading onnxruntime-1.22.0-cp310-cp310-manylinux_2_27_x86_64.manylinux_2_28_x86_64.whl (16.4 MB)\n",
      "\u001b[2K   \u001b[90m━━━━━━━━━━━━━━━━━━━━━━━━━━━━━━━━━━━━━━━━\u001b[0m \u001b[32m16.4/16.4 MB\u001b[0m \u001b[31m37.4 MB/s\u001b[0m eta \u001b[36m0:00:00\u001b[0m00:01\u001b[0m0:02\u001b[0m\n",
      "\u001b[?25hDownloading coloredlogs-15.0.1-py2.py3-none-any.whl (46 kB)\n",
      "Downloading humanfriendly-10.0-py2.py3-none-any.whl (86 kB)\n",
      "Installing collected packages: humanfriendly, coloredlogs, onnxruntime\n",
      "\u001b[33m  WARNING: The script humanfriendly is installed in '/home/jupyter/.local/bin' which is not on PATH.\n",
      "  Consider adding this directory to PATH or, if you prefer to suppress this warning, use --no-warn-script-location.\u001b[0m\u001b[33m\n",
      "\u001b[0m\u001b[33m  WARNING: The script coloredlogs is installed in '/home/jupyter/.local/bin' which is not on PATH.\n",
      "  Consider adding this directory to PATH or, if you prefer to suppress this warning, use --no-warn-script-location.\u001b[0m\u001b[33m\n",
      "\u001b[0m\u001b[33m  WARNING: The script onnxruntime_test is installed in '/home/jupyter/.local/bin' which is not on PATH.\n",
      "  Consider adding this directory to PATH or, if you prefer to suppress this warning, use --no-warn-script-location.\u001b[0m\u001b[33m\n",
      "\u001b[0mSuccessfully installed coloredlogs-15.0.1 humanfriendly-10.0 onnxruntime-1.22.0\n",
      "\n",
      "\u001b[1m[\u001b[0m\u001b[34;49mnotice\u001b[0m\u001b[1;39;49m]\u001b[0m\u001b[39;49m A new release of pip is available: \u001b[0m\u001b[31;49m23.0.1\u001b[0m\u001b[39;49m -> \u001b[0m\u001b[32;49m25.1.1\u001b[0m\n",
      "\u001b[1m[\u001b[0m\u001b[34;49mnotice\u001b[0m\u001b[1;39;49m]\u001b[0m\u001b[39;49m To update, run: \u001b[0m\u001b[32;49mpython3 -m pip install --upgrade pip\u001b[0m\n"
     ]
    }
   ],
   "source": [
    "# pip install transformers==4.30.1\n",
    "# %pip install torchmetrics\n",
    "# %pip install onnx\n",
    "%pip install onnxruntime "
   ]
  },
  {
   "cell_type": "code",
   "execution_count": 17,
   "id": "cfaf10f28e9443bc",
   "metadata": {
    "execution": {
     "iopub.execute_input": "2025-05-19T13:48:27.312500Z",
     "iopub.status.busy": "2025-05-19T13:48:27.311634Z",
     "iopub.status.idle": "2025-05-19T13:48:27.323179Z",
     "shell.execute_reply": "2025-05-19T13:48:27.322658Z",
     "shell.execute_reply.started": "2025-05-19T13:48:27.312465Z"
    },
    "tags": []
   },
   "outputs": [],
   "source": [
    "import os\n",
    "import torch\n",
    "import torch.nn as nn\n",
    "import albumentations as A\n",
    "import numpy as np\n",
    "from PIL import Image\n",
    "from torch.utils.data import Dataset, DataLoader\n",
    "from transformers import BeitForImageClassification\n",
    "from torch.optim import AdamW\n",
    "from albumentations.pytorch import ToTensorV2\n",
    "from sklearn.metrics import accuracy_score, f1_score\n",
    "\n",
    "from torch.cuda.amp import autocast, GradScaler\n",
    "from transformers import BeitImageProcessor\n",
    "import requests\n",
    "from tqdm import tqdm\n",
    "\n",
    "from torchmetrics.classification import MulticlassAccuracy, MulticlassF1Score\n",
    "import matplotlib.pyplot as plt\n",
    "from sklearn.utils.class_weight import compute_class_weight"
   ]
  },
  {
   "cell_type": "code",
   "execution_count": 3,
   "id": "5b85570b7d84b39f",
   "metadata": {
    "ExecuteTime": {
     "end_time": "2025-05-17T13:51:58.279261Z",
     "start_time": "2025-05-17T13:51:58.253938Z"
    },
    "execution": {
     "iopub.execute_input": "2025-05-18T22:22:30.858150Z",
     "iopub.status.busy": "2025-05-18T22:22:30.857242Z",
     "iopub.status.idle": "2025-05-18T22:22:30.890311Z",
     "shell.execute_reply": "2025-05-18T22:22:30.889739Z",
     "shell.execute_reply.started": "2025-05-18T22:22:30.858127Z"
    },
    "tags": []
   },
   "outputs": [
    {
     "data": {
      "text/plain": [
       "'2.0.1+cu118'"
      ]
     },
     "execution_count": 3,
     "metadata": {},
     "output_type": "execute_result"
    }
   ],
   "source": [
    "torch.__version__"
   ]
  },
  {
   "cell_type": "code",
   "execution_count": 4,
   "id": "4a59f002ce6f8dc1",
   "metadata": {
    "ExecuteTime": {
     "end_time": "2025-05-17T12:42:22.712757Z",
     "start_time": "2025-05-17T12:42:22.706303Z"
    },
    "execution": {
     "iopub.execute_input": "2025-05-18T22:22:30.891895Z",
     "iopub.status.busy": "2025-05-18T22:22:30.891300Z",
     "iopub.status.idle": "2025-05-18T22:22:30.914858Z",
     "shell.execute_reply": "2025-05-18T22:22:30.914223Z",
     "shell.execute_reply.started": "2025-05-18T22:22:30.891861Z"
    },
    "tags": []
   },
   "outputs": [],
   "source": [
    "train_path = \"split_dataset/train\"\n",
    "val_path = \"split_dataset/val\"\n",
    "test_path = \"split_dataset/test\""
   ]
  },
  {
   "cell_type": "code",
   "execution_count": 5,
   "id": "59ed7040ad9566ef",
   "metadata": {
    "ExecuteTime": {
     "end_time": "2025-05-17T12:42:22.955060Z",
     "start_time": "2025-05-17T12:42:22.947884Z"
    },
    "execution": {
     "iopub.execute_input": "2025-05-18T22:22:30.916869Z",
     "iopub.status.busy": "2025-05-18T22:22:30.916238Z",
     "iopub.status.idle": "2025-05-18T22:22:30.965283Z",
     "shell.execute_reply": "2025-05-18T22:22:30.964707Z",
     "shell.execute_reply.started": "2025-05-18T22:22:30.916842Z"
    },
    "tags": []
   },
   "outputs": [],
   "source": [
    "# Конфигурация\n",
    "config = {\n",
    "    \"model_name\": \"microsoft/beit-large-patch16-224-pt22k-ft22k\",\n",
    "    \"data_path\": \"/path/to/your/data\",  # Папка с train/val/test подпапками\n",
    "    \"img_size\": 224,\n",
    "    \"batch_size\": 32,\n",
    "    \"epochs\": 10,\n",
    "    \"lr\": 3e-5,\n",
    "    \"num_workers\": 4,\n",
    "    \"num_classes\": 144,\n",
    "    \"device\": \"cuda\" if torch.cuda.is_available() else \"cpu\"\n",
    "}"
   ]
  },
  {
   "cell_type": "code",
   "execution_count": 6,
   "id": "1de5e9d9271fa880",
   "metadata": {
    "ExecuteTime": {
     "end_time": "2025-05-17T12:42:23.439569Z",
     "start_time": "2025-05-17T12:42:23.420844Z"
    },
    "execution": {
     "iopub.execute_input": "2025-05-18T22:22:30.966912Z",
     "iopub.status.busy": "2025-05-18T22:22:30.966158Z",
     "iopub.status.idle": "2025-05-18T22:22:31.008558Z",
     "shell.execute_reply": "2025-05-18T22:22:31.007853Z",
     "shell.execute_reply.started": "2025-05-18T22:22:30.966884Z"
    },
    "tags": []
   },
   "outputs": [],
   "source": [
    "# Аугментации с Albumentations\n",
    "train_transform = A.Compose([\n",
    "    A.Resize(config['img_size'], config['img_size']),\n",
    "    A.HorizontalFlip(p=0.5),\n",
    "    A.VerticalFlip(p=0.2),\n",
    "    A.Rotate(limit=20, p=0.3),\n",
    "    A.RandomBrightnessContrast(p=0.3),\n",
    "    A.Normalize(mean=[0.5, 0.5, 0.5], std=[0.5, 0.5, 0.5]),  # BEiT-specific normalization\n",
    "    ToTensorV2()\n",
    "])\n",
    "\n",
    "val_transform = A.Compose([\n",
    "    A.Resize(config['img_size'], config['img_size']),\n",
    "    A.Normalize(mean=[0.5, 0.5, 0.5], std=[0.5, 0.5, 0.5]),\n",
    "    ToTensorV2()\n",
    "])\n",
    "\n",
    "test_transform = A.Compose([\n",
    "    A.Resize(config['img_size'], config['img_size']),\n",
    "    A.Normalize(mean=[0.5, 0.5, 0.5], std=[0.5, 0.5, 0.5]),\n",
    "    ToTensorV2()\n",
    "])"
   ]
  },
  {
   "cell_type": "code",
   "execution_count": 7,
   "id": "c194bd260327997f",
   "metadata": {
    "ExecuteTime": {
     "end_time": "2025-05-17T12:42:23.817207Z",
     "start_time": "2025-05-17T12:42:23.804284Z"
    },
    "execution": {
     "iopub.execute_input": "2025-05-18T22:22:31.010046Z",
     "iopub.status.busy": "2025-05-18T22:22:31.009392Z",
     "iopub.status.idle": "2025-05-18T22:22:31.042504Z",
     "shell.execute_reply": "2025-05-18T22:22:31.041961Z",
     "shell.execute_reply.started": "2025-05-18T22:22:31.010017Z"
    },
    "tags": []
   },
   "outputs": [],
   "source": [
    "class CustomDataset(Dataset):\n",
    "    def __init__(self, root_dir, transform=None):\n",
    "        self.classes = sorted(os.listdir(root_dir))\n",
    "        self.class_to_idx = {cls: i for i, cls in enumerate(self.classes)}\n",
    "        self.get_class = {i: cls for i, cls in enumerate(self.classes)}\n",
    "        self.samples = []\n",
    "        self.transform = transform\n",
    "\n",
    "        for cls in self.classes:\n",
    "            cls_dir = os.path.join(root_dir, cls)\n",
    "            for img_name in os.listdir(cls_dir):\n",
    "                self.samples.append((\n",
    "                    os.path.join(cls_dir, img_name),\n",
    "                    self.class_to_idx[cls]\n",
    "                ))\n",
    "\n",
    "    def __len__(self):\n",
    "        return len(self.samples)\n",
    "\n",
    "    def __getitem__(self, idx):\n",
    "        img_path, label = self.samples[idx]\n",
    "        image = np.array(Image.open(img_path).convert(\"RGB\"))\n",
    "\n",
    "        if self.transform:\n",
    "            augmented = self.transform(image=image)\n",
    "            image = augmented[\"image\"]\n",
    "\n",
    "        return image, torch.tensor(label, dtype=torch.long)"
   ]
  },
  {
   "cell_type": "code",
   "execution_count": 8,
   "id": "4d2a2ba6c5628334",
   "metadata": {
    "ExecuteTime": {
     "end_time": "2025-05-17T12:42:25.578757Z",
     "start_time": "2025-05-17T12:42:24.164190Z"
    },
    "execution": {
     "iopub.execute_input": "2025-05-18T22:22:31.044192Z",
     "iopub.status.busy": "2025-05-18T22:22:31.043317Z",
     "iopub.status.idle": "2025-05-18T22:22:31.454071Z",
     "shell.execute_reply": "2025-05-18T22:22:31.453464Z",
     "shell.execute_reply.started": "2025-05-18T22:22:31.044158Z"
    },
    "tags": []
   },
   "outputs": [],
   "source": [
    "# Инициализация данных\n",
    "train_dataset = CustomDataset(\n",
    "    train_path,\n",
    "    transform=train_transform\n",
    ")\n",
    "val_dataset = CustomDataset(\n",
    "    val_path,\n",
    "    transform=val_transform\n",
    ")\n",
    "test_dataset = CustomDataset(\n",
    "    test_path,\n",
    "    transform=test_transform\n",
    ")\n",
    "\n",
    "train_loader = DataLoader(\n",
    "    train_dataset,\n",
    "    batch_size=config['batch_size'],\n",
    "    shuffle=True,\n",
    "    num_workers=config['num_workers'],\n",
    "    pin_memory=True\n",
    ")\n",
    "val_loader = DataLoader(\n",
    "    val_dataset,\n",
    "    batch_size=config['batch_size'],\n",
    "    shuffle=False,\n",
    "    num_workers=config['num_workers'],\n",
    "    pin_memory=True\n",
    ")\n",
    "test_loader = DataLoader(\n",
    "    test_dataset,\n",
    "    batch_size=config['batch_size'],\n",
    "    shuffle=False,\n",
    "    num_workers=config['num_workers'],\n",
    "    pin_memory=True\n",
    ")"
   ]
  },
  {
   "cell_type": "code",
   "execution_count": 9,
   "id": "2326f4e8067df729",
   "metadata": {
    "ExecuteTime": {
     "end_time": "2025-05-17T12:42:25.596454Z",
     "start_time": "2025-05-17T12:42:25.588986Z"
    },
    "execution": {
     "iopub.execute_input": "2025-05-18T22:22:31.455565Z",
     "iopub.status.busy": "2025-05-18T22:22:31.454934Z",
     "iopub.status.idle": "2025-05-18T22:22:31.476536Z",
     "shell.execute_reply": "2025-05-18T22:22:31.475959Z",
     "shell.execute_reply.started": "2025-05-18T22:22:31.455540Z"
    },
    "tags": []
   },
   "outputs": [],
   "source": [
    "# loss_fn = torch.nn.CrossEntropyLoss()"
   ]
  },
  {
   "cell_type": "code",
   "execution_count": 10,
   "id": "377fa86b708c42bd",
   "metadata": {
    "ExecuteTime": {
     "end_time": "2025-05-17T12:42:30.664725Z",
     "start_time": "2025-05-17T12:42:26.073771Z"
    },
    "execution": {
     "iopub.execute_input": "2025-05-18T22:22:31.478146Z",
     "iopub.status.busy": "2025-05-18T22:22:31.477304Z",
     "iopub.status.idle": "2025-05-18T22:22:34.812302Z",
     "shell.execute_reply": "2025-05-18T22:22:34.811697Z",
     "shell.execute_reply.started": "2025-05-18T22:22:31.478116Z"
    },
    "tags": []
   },
   "outputs": [
    {
     "name": "stderr",
     "output_type": "stream",
     "text": [
      "/home/jupyter/.local/lib/python3.10/site-packages/huggingface_hub/file_download.py:943: FutureWarning: `resume_download` is deprecated and will be removed in version 1.0.0. Downloads always resume when possible. If you want to force a new download, use `force_download=True`.\n",
      "  warnings.warn(\n",
      "Some weights of BeitForImageClassification were not initialized from the model checkpoint at microsoft/beit-large-patch16-224-pt22k-ft22k and are newly initialized because the shapes did not match:\n",
      "- classifier.weight: found shape torch.Size([21841, 1024]) in the checkpoint and torch.Size([144, 1024]) in the model instantiated\n",
      "- classifier.bias: found shape torch.Size([21841]) in the checkpoint and torch.Size([144]) in the model instantiated\n",
      "You should probably TRAIN this model on a down-stream task to be able to use it for predictions and inference.\n"
     ]
    }
   ],
   "source": [
    "model = BeitForImageClassification.from_pretrained(\n",
    "    config['model_name'],\n",
    "    num_labels=len(train_dataset.classes),\n",
    "    ignore_mismatched_sizes=True\n",
    ").to(config[\"device\"])\n",
    "# model = torch.compile(model)"
   ]
  },
  {
   "cell_type": "code",
   "execution_count": 11,
   "id": "eaf2df6994bc3496",
   "metadata": {
    "ExecuteTime": {
     "end_time": "2025-05-17T12:42:30.683669Z",
     "start_time": "2025-05-17T12:42:30.674696Z"
    },
    "execution": {
     "iopub.execute_input": "2025-05-18T22:22:34.814760Z",
     "iopub.status.busy": "2025-05-18T22:22:34.814003Z",
     "iopub.status.idle": "2025-05-18T22:22:34.833137Z",
     "shell.execute_reply": "2025-05-18T22:22:34.832632Z",
     "shell.execute_reply.started": "2025-05-18T22:22:34.814736Z"
    },
    "tags": []
   },
   "outputs": [],
   "source": [
    "optimizer = AdamW(model.parameters(), lr=config['lr'])"
   ]
  },
  {
   "cell_type": "code",
   "execution_count": 12,
   "id": "133bda6ea7b172e4",
   "metadata": {
    "ExecuteTime": {
     "end_time": "2025-05-17T12:42:31.106661Z",
     "start_time": "2025-05-17T12:42:31.088512Z"
    },
    "execution": {
     "iopub.execute_input": "2025-05-18T22:22:34.834386Z",
     "iopub.status.busy": "2025-05-18T22:22:34.833756Z",
     "iopub.status.idle": "2025-05-18T22:22:34.847538Z",
     "shell.execute_reply": "2025-05-18T22:22:34.847016Z",
     "shell.execute_reply.started": "2025-05-18T22:22:34.834360Z"
    },
    "tags": []
   },
   "outputs": [],
   "source": [
    "def train_model(model, train_loader, val_loader, optimizer, config):\n",
    "    device = config['device']\n",
    "    epochs = config['epochs']\n",
    "    scaler = GradScaler()\n",
    "\n",
    "    num_classes = config['num_classes']  # обязательно передай число классов в config\n",
    "    \n",
    "    train_acc_metric = MulticlassAccuracy(num_classes=num_classes, average='weighted').to(device)\n",
    "    train_f1_metric = MulticlassF1Score(num_classes=num_classes, average='weighted').to(device)\n",
    "\n",
    "    val_acc_metric = MulticlassAccuracy(num_classes=num_classes, average='weighted').to(device)\n",
    "    val_f1_metric = MulticlassF1Score(num_classes=num_classes, average='weighted').to(device)\n",
    "\n",
    "    history = {'train_loss': [], 'val_loss': [],\n",
    "               'train_acc': [], 'val_acc': [],\n",
    "               'train_f1': [], 'val_f1': []}\n",
    "\n",
    "    for epoch in range(epochs):\n",
    "        model.train()\n",
    "        train_loss = 0\n",
    "        train_acc_metric.reset()\n",
    "        train_f1_metric.reset()\n",
    "\n",
    "        with tqdm(train_loader, unit=\"batch\", desc=f\"Epoch {epoch+1}/{epochs} [Train]\") as tepoch:\n",
    "            for images, labels in tepoch:\n",
    "                images, labels = images.to(device), labels.to(device)\n",
    "\n",
    "                optimizer.zero_grad()\n",
    "                with autocast():\n",
    "                    outputs = model(pixel_values=images, labels=labels)\n",
    "                    loss = outputs.loss\n",
    "                \n",
    "                scaler.scale(loss).backward()\n",
    "                scaler.step(optimizer)\n",
    "                scaler.update()\n",
    "\n",
    "                train_loss += loss.item()\n",
    "                preds = torch.argmax(outputs.logits, dim=1)\n",
    "                \n",
    "                train_acc_metric.update(preds, labels)\n",
    "                train_f1_metric.update(preds, labels)\n",
    "\n",
    "                tepoch.set_postfix({'loss': loss.item()})\n",
    "\n",
    "        train_loss /= len(train_loader)\n",
    "        train_acc = train_acc_metric.compute().item()\n",
    "        train_f1 = train_f1_metric.compute().item()\n",
    "\n",
    "        # Валидация\n",
    "        model.eval()\n",
    "        val_loss = 0\n",
    "        val_acc_metric.reset()\n",
    "        val_f1_metric.reset()\n",
    "\n",
    "        with torch.no_grad(), tqdm(val_loader, unit=\"batch\", desc=f\"Epoch {epoch+1}/{epochs} [Val]\") as tepoch:\n",
    "            for images, labels in tepoch:\n",
    "                images, labels = images.to(device), labels.to(device)\n",
    "\n",
    "                outputs = model(pixel_values=images, labels=labels)\n",
    "                val_loss += outputs.loss.item()\n",
    "                preds = torch.argmax(outputs.logits, dim=1)\n",
    "\n",
    "                val_acc_metric.update(preds, labels)\n",
    "                val_f1_metric.update(preds, labels)\n",
    "\n",
    "                tepoch.set_postfix({'val_loss': outputs.loss.item()})\n",
    "\n",
    "        val_loss /= len(val_loader)\n",
    "        val_acc = val_acc_metric.compute().item()\n",
    "        val_f1 = val_f1_metric.compute().item()\n",
    "\n",
    "        history['train_loss'].append(train_loss)\n",
    "        history['val_loss'].append(val_loss)\n",
    "        history['train_acc'].append(train_acc)\n",
    "        history['val_acc'].append(val_acc)\n",
    "        history['train_f1'].append(train_f1)\n",
    "        history['val_f1'].append(val_f1)\n",
    "\n",
    "    return history"
   ]
  },
  {
   "cell_type": "code",
   "execution_count": 21,
   "id": "4e85de1d-2ae1-4710-bb21-96c7089668c4",
   "metadata": {
    "execution": {
     "iopub.execute_input": "2025-05-19T15:08:18.485686Z",
     "iopub.status.busy": "2025-05-19T15:08:18.484798Z",
     "iopub.status.idle": "2025-05-19T15:08:18.498931Z",
     "shell.execute_reply": "2025-05-19T15:08:18.498393Z",
     "shell.execute_reply.started": "2025-05-19T15:08:18.485656Z"
    },
    "tags": []
   },
   "outputs": [],
   "source": [
    "def plot_training_history(history):\n",
    "    epochs = range(1, len(history['train_loss']) + 1)\n",
    "\n",
    "    plt.figure(figsize=(18, 5))\n",
    "\n",
    "    # 1. Loss\n",
    "    plt.subplot(1, 3, 1)\n",
    "    plt.plot(epochs, history['train_loss'], label='Train Loss')\n",
    "    plt.plot(epochs, history['val_loss'], label='Val Loss')\n",
    "    plt.xlabel('Epoch')\n",
    "    plt.ylabel('Loss')\n",
    "    plt.title('Loss per Epoch')\n",
    "    plt.legend()\n",
    "    plt.grid(True)\n",
    "\n",
    "    # 2. Accuracy\n",
    "    plt.subplot(1, 3, 2)\n",
    "    plt.plot(epochs, history['train_acc'], label='Train Acc')\n",
    "    plt.plot(epochs, history['val_acc'], label='Val Acc')\n",
    "    plt.xlabel('Epoch')\n",
    "    plt.ylabel('Accuracy')\n",
    "    plt.title('Accuracy per Epoch')\n",
    "    plt.legend()\n",
    "    plt.grid(True)\n",
    "\n",
    "    # 3. F1-score\n",
    "    plt.subplot(1, 3, 3)\n",
    "    plt.plot(epochs, history['train_f1'], label='Train F1')\n",
    "    plt.plot(epochs, history['val_f1'], label='Val F1')\n",
    "    plt.xlabel('Epoch')\n",
    "    plt.ylabel('F1-score')\n",
    "    plt.title('F1-score per Epoch')\n",
    "    plt.legend()\n",
    "    plt.grid(True)\n",
    "\n",
    "    plt.tight_layout()\n",
    "    plt.savefig(\"beit_history.png\")\n",
    "    plt.show()"
   ]
  },
  {
   "cell_type": "code",
   "execution_count": null,
   "id": "4febbeea12337f83",
   "metadata": {
    "ExecuteTime": {
     "end_time": "2025-05-17T13:05:51.595533500Z",
     "start_time": "2025-05-17T12:42:31.823845Z"
    },
    "execution": {
     "iopub.execute_input": "2025-05-18T22:22:34.849052Z",
     "iopub.status.busy": "2025-05-18T22:22:34.848299Z",
     "iopub.status.idle": "2025-05-19T13:05:48.191173Z"
    },
    "tags": []
   },
   "outputs": [
    {
     "name": "stderr",
     "output_type": "stream",
     "text": [
      "Epoch 2/10 [Train]: 100%|██████████| 5976/5976 [1:13:15<00:00,  1.36batch/s, loss=2.06]\n",
      "Epoch 2/10 [Val]: 100%|██████████| 1494/1494 [15:10<00:00,  1.64batch/s, val_loss=5.44] \n",
      "Epoch 3/10 [Train]: 100%|██████████| 5976/5976 [1:13:10<00:00,  1.36batch/s, loss=1.5] \n",
      "Epoch 3/10 [Val]: 100%|██████████| 1494/1494 [15:12<00:00,  1.64batch/s, val_loss=5.54] \n",
      "Epoch 4/10 [Train]: 100%|██████████| 5976/5976 [1:13:10<00:00,  1.36batch/s, loss=1.46] \n",
      "Epoch 7/10 [Val]: 100%|██████████| 1494/1494 [15:09<00:00,  1.64batch/s, val_loss=6.65] \n",
      "Epoch 8/10 [Train]: 100%|██████████| 5976/5976 [1:13:02<00:00,  1.36batch/s, loss=0.249] \n",
      "Epoch 8/10 [Val]: 100%|██████████| 1494/1494 [15:11<00:00,  1.64batch/s, val_loss=7.23] \n",
      "Epoch 9/10 [Train]: 100%|██████████| 5976/5976 [1:13:00<00:00,  1.36batch/s, loss=0.174] \n",
      "Epoch 9/10 [Val]: 100%|██████████| 1494/1494 [15:12<00:00,  1.64batch/s, val_loss=6.95] \n",
      "Epoch 10/10 [Train]: 100%|██████████| 5976/5976 [1:13:01<00:00,  1.36batch/s, loss=0.395] \n",
      "Epoch 10/10 [Val]: 100%|██████████| 1494/1494 [15:12<00:00,  1.64batch/s, val_loss=7.12] \n"
     ]
    }
   ],
   "source": [
    "history = train_model(model, train_loader, val_loader, optimizer, config)"
   ]
  },
  {
   "cell_type": "code",
   "execution_count": 22,
   "id": "4bbf5bbce5d837d9",
   "metadata": {
    "execution": {
     "iopub.execute_input": "2025-05-19T15:08:20.711504Z",
     "iopub.status.busy": "2025-05-19T15:08:20.710556Z",
     "iopub.status.idle": "2025-05-19T15:08:21.407507Z",
     "shell.execute_reply": "2025-05-19T15:08:21.406824Z",
     "shell.execute_reply.started": "2025-05-19T15:08:20.711466Z"
    },
    "tags": []
   },
   "outputs": [
    {
     "data": {
      "image/png": "[encoded data removed]",
      "text/plain": [
       "<Figure size 1800x500 with 3 Axes>"
      ]
     },
     "metadata": {},
     "output_type": "display_data"
    }
   ],
   "source": [
    "plot_training_history(history)"
   ]
  },
  {
   "cell_type": "code",
   "execution_count": null,
   "id": "2d945b2e-2ce8-4dc5-b4e9-cf921dfa5e37",
   "metadata": {
    "tags": []
   },
   "outputs": [],
   "source": []
  },
  {
   "cell_type": "code",
   "execution_count": 29,
   "id": "11941ac032279a3b",
   "metadata": {
    "ExecuteTime": {
     "end_time": "2025-05-15T23:16:08.724382Z",
     "start_time": "2025-05-15T23:16:08.241576Z"
    },
    "execution": {
     "iopub.execute_input": "2025-05-19T15:26:24.034129Z",
     "iopub.status.busy": "2025-05-19T15:26:24.033174Z",
     "iopub.status.idle": "2025-05-19T15:26:24.049063Z",
     "shell.execute_reply": "2025-05-19T15:26:24.048447Z",
     "shell.execute_reply.started": "2025-05-19T15:26:24.034093Z"
    },
    "tags": []
   },
   "outputs": [],
   "source": [
    "# class WrappedBeit(nn.Module):\n",
    "#     def __init__(self, model):\n",
    "#         super().__init__()\n",
    "#         self.model = model  # HuggingFace SwinForImageClassification\n",
    "\n",
    "#     def forward(self, x):\n",
    "#         return self.model(x).logits  # возвращаем только тензор логитов\n",
    "\n",
    "# # Оборачиваем\n",
    "# wrapped_model = WrappedBeit(model)\n",
    "# wrapped_model.eval().cpu()\n",
    "\n",
    "# # dummy input\n",
    "# dummy_input = torch.randn(1, 3, 224, 224)\n",
    "\n",
    "# # трассируем\n",
    "# traced = torch.jit.script(wrapped_model, dummy_input)\n",
    "# traced.save(\"model_beit.pt\")"
   ]
  },
  {
   "cell_type": "code",
   "execution_count": 33,
   "id": "0581e0eb-70f1-4f4d-9a68-8c135e27c3b8",
   "metadata": {
    "execution": {
     "iopub.execute_input": "2025-05-19T15:31:37.379178Z",
     "iopub.status.busy": "2025-05-19T15:31:37.378176Z",
     "iopub.status.idle": "2025-05-19T15:33:12.579600Z",
     "shell.execute_reply": "2025-05-19T15:33:12.578033Z",
     "shell.execute_reply.started": "2025-05-19T15:31:37.379142Z"
    },
    "tags": []
   },
   "outputs": [
    {
     "name": "stdout",
     "output_type": "stream",
     "text": [
      "============= Diagnostic Run torch.onnx.export version 2.0.1+cu118 =============\n",
      "verbose: False, log level: Level.ERROR\n",
      "======================= 0 NONE 0 NOTE 0 WARNING 0 ERROR ========================\n",
      "\n"
     ]
    }
   ],
   "source": [
    "model.eval().cpu()\n",
    "dummy_input = torch.randn(1, 3, 224, 224)\n",
    "torch.onnx.export(\n",
    "    model,\n",
    "    dummy_input,\n",
    "    \"beit_model.onnx\",\n",
    "    input_names=[\"pixel_values\"],\n",
    "    output_names=[\"logits\"],\n",
    "    dynamic_axes={\"pixel_values\": {0: \"batch_size\"}, \"logits\": {0: \"batch_size\"}},\n",
    "    opset_version=11\n",
    ")"
   ]
  },
  {
   "cell_type": "code",
   "execution_count": 46,
   "id": "a97a93f2c5ccdd29",
   "metadata": {
    "ExecuteTime": {
     "end_time": "2025-05-15T23:17:10.365622Z",
     "start_time": "2025-05-15T23:17:08.323475Z"
    },
    "execution": {
     "iopub.execute_input": "2025-05-19T16:06:13.078352Z",
     "iopub.status.busy": "2025-05-19T16:06:13.077662Z",
     "iopub.status.idle": "2025-05-19T16:06:15.198376Z",
     "shell.execute_reply": "2025-05-19T16:06:15.197655Z",
     "shell.execute_reply.started": "2025-05-19T16:06:13.078327Z"
    },
    "tags": []
   },
   "outputs": [
    {
     "name": "stdout",
     "output_type": "stream",
     "text": [
      "(1, 144)\n",
      "italy\n"
     ]
    }
   ],
   "source": [
    "import onnxruntime as ort\n",
    "import numpy as np\n",
    "from PIL import Image\n",
    "from torchvision import transforms\n",
    "\n",
    "# Загружаем модель\n",
    "session = ort.InferenceSession(\"beit_model.onnx\")  # или decoder.onnx\n",
    "\n",
    "# Преобразование картинки (например, для encoder)\n",
    "preprocess = transforms.Compose([\n",
    "    transforms.Resize((224, 224)),\n",
    "    transforms.ToTensor(),  # [0, 1]\n",
    "    transforms.Normalize(mean=[0.485, 0.456, 0.406],  # стандартные для Swin\n",
    "                         std=[0.229, 0.224, 0.225])\n",
    "])\n",
    "\n",
    "image = Image.open(\"img.png\").convert(\"RGB\")\n",
    "input_tensor = preprocess(image).unsqueeze(0).numpy()  # shape: (1, 3, 224, 224)\n",
    "# Входные имена и инференс\n",
    "input_name = session.get_inputs()[0].name\n",
    "output_name = session.get_outputs()[0].name\n",
    "\n",
    "outputs = session.run([output_name], {input_name: input_tensor})\n",
    "print(outputs[0].shape)\n",
    "print(test_dataset.get_class[int(torch.argmax(torch.tensor(outputs[0]), dim=1))])"
   ]
  },
  {
   "cell_type": "code",
   "execution_count": 48,
   "id": "e95f8b41-a2f8-4a95-aff1-ff501988152d",
   "metadata": {
    "execution": {
     "iopub.execute_input": "2025-05-19T18:07:34.623773Z",
     "iopub.status.busy": "2025-05-19T18:07:34.622733Z",
     "iopub.status.idle": "2025-05-19T18:07:35.692858Z",
     "shell.execute_reply": "2025-05-19T18:07:35.691639Z",
     "shell.execute_reply.started": "2025-05-19T18:07:34.623733Z"
    },
    "tags": []
   },
   "outputs": [
    {
     "name": "stdout",
     "output_type": "stream",
     "text": [
      "logits tensor_type {\n",
      "  elem_type: 1\n",
      "  shape {\n",
      "    dim {\n",
      "      dim_param: \"batch_size\"\n",
      "    }\n",
      "    dim {\n",
      "      dim_value: 144\n",
      "    }\n",
      "  }\n",
      "}\n",
      "\n"
     ]
    }
   ],
   "source": [
    "# В Python\n",
    "import onnx\n",
    "test_model = onnx.load(\"beit_model.onnx\")\n",
    "for inp in test_model.graph.output:\n",
    "    print(inp.name, inp.type)"
   ]
  },
  {
   "cell_type": "code",
   "execution_count": null,
   "id": "5e83980fc7ce99b8",
   "metadata": {
    "ExecuteTime": {
     "start_time": "2025-05-15T23:18:41.896249Z"
    },
    "tags": []
   },
   "outputs": [],
   "source": []
  },
  {
   "cell_type": "code",
   "execution_count": null,
   "id": "9b792f317a59283",
   "metadata": {
    "ExecuteTime": {
     "end_time": "2025-05-17T18:00:40.669527Z",
     "start_time": "2025-05-17T18:00:40.643977Z"
    }
   },
   "outputs": [],
   "source": []
  },
  {
   "cell_type": "code",
   "execution_count": null,
   "id": "47c35d0ee5c2a9af",
   "metadata": {
    "ExecuteTime": {
     "end_time": "2025-05-16T16:32:37.180348Z",
     "start_time": "2025-05-16T16:28:30.088158Z"
    }
   },
   "outputs": [],
   "source": []
  }
 ],
 "metadata": {
  "kernelspec": {
   "display_name": "DataSphere Kernel",
   "language": "python",
   "name": "python3"
  },
  "language_info": {
   "codemirror_mode": {
    "name": "ipython",
    "version": 3
   },
   "file_extension": ".py",
   "mimetype": "text/x-python",
   "name": "python",
   "nbconvert_exporter": "python",
   "pygments_lexer": "ipython3",
   "version": "3.10.12"
  }
 },
 "nbformat": 4,
 "nbformat_minor": 5
}
