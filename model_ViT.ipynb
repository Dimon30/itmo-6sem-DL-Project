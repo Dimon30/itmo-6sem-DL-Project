{
 "cells": [
  {
   "cell_type": "code",
   "execution_count": 19,
   "id": "bc90438a-cc2d-4668-b829-a2500d334166",
   "metadata": {
    "execution": {
     "iopub.execute_input": "2025-05-19T16:44:21.628494Z",
     "iopub.status.busy": "2025-05-19T16:44:21.627734Z",
     "iopub.status.idle": "2025-05-19T16:46:44.640076Z",
     "shell.execute_reply": "2025-05-19T16:46:44.639378Z",
     "shell.execute_reply.started": "2025-05-19T16:44:21.628470Z"
    },
    "tags": []
   },
   "outputs": [
    {
     "name": "stdout",
     "output_type": "stream",
     "text": [
      "Defaulting to user installation because normal site-packages is not writeable\n",
      "Collecting onnx\n",
      "  Downloading onnx-1.18.0-cp310-cp310-manylinux_2_17_x86_64.manylinux2014_x86_64.whl.metadata (6.9 kB)\n",
      "Collecting onnxruntime\n",
      "  Downloading onnxruntime-1.22.0-cp310-cp310-manylinux_2_27_x86_64.manylinux_2_28_x86_64.whl.metadata (4.5 kB)\n",
      "Requirement already satisfied: numpy>=1.22 in /usr/local/lib/python3.10/dist-packages (from onnx) (1.22.4)\n",
      "Collecting protobuf>=4.25.1 (from onnx)\n",
      "  Downloading protobuf-6.31.0-cp39-abi3-manylinux2014_x86_64.whl.metadata (593 bytes)\n",
      "Requirement already satisfied: typing_extensions>=4.7.1 in /usr/local/lib/python3.10/dist-packages (from onnx) (4.7.1)\n",
      "Collecting coloredlogs (from onnxruntime)\n",
      "  Downloading coloredlogs-15.0.1-py2.py3-none-any.whl.metadata (12 kB)\n",
      "Requirement already satisfied: flatbuffers in /usr/local/lib/python3.10/dist-packages (from onnxruntime) (23.5.26)\n",
      "Requirement already satisfied: packaging in /usr/local/lib/python3.10/dist-packages (from onnxruntime) (23.1)\n",
      "Requirement already satisfied: sympy in /usr/local/lib/python3.10/dist-packages (from onnxruntime) (1.11.1)\n",
      "Collecting humanfriendly>=9.1 (from coloredlogs->onnxruntime)\n",
      "  Downloading humanfriendly-10.0-py2.py3-none-any.whl.metadata (9.2 kB)\n",
      "Requirement already satisfied: mpmath>=0.19 in /usr/local/lib/python3.10/dist-packages (from sympy->onnxruntime) (1.3.0)\n",
      "Downloading onnx-1.18.0-cp310-cp310-manylinux_2_17_x86_64.manylinux2014_x86_64.whl (17.6 MB)\n",
      "\u001b[2K   \u001b[90m━━━━━━━━━━━━━━━━━━━━━━━━━━━━━━━━━━━━━━━━\u001b[0m \u001b[32m17.6/17.6 MB\u001b[0m \u001b[31m46.6 MB/s\u001b[0m eta \u001b[36m0:00:00\u001b[0ma \u001b[36m0:00:01\u001b[0m\n",
      "\u001b[?25hDownloading onnxruntime-1.22.0-cp310-cp310-manylinux_2_27_x86_64.manylinux_2_28_x86_64.whl (16.4 MB)\n",
      "\u001b[2K   \u001b[90m━━━━━━━━━━━━━━━━━━━━━━━━━━━━━━━━━━━━━━━━\u001b[0m \u001b[32m16.4/16.4 MB\u001b[0m \u001b[31m64.2 MB/s\u001b[0m eta \u001b[36m0:00:00\u001b[0ma \u001b[36m0:00:01\u001b[0m\n",
      "\u001b[?25hDownloading protobuf-6.31.0-cp39-abi3-manylinux2014_x86_64.whl (320 kB)\n",
      "Downloading coloredlogs-15.0.1-py2.py3-none-any.whl (46 kB)\n",
      "Downloading humanfriendly-10.0-py2.py3-none-any.whl (86 kB)\n",
      "Installing collected packages: protobuf, humanfriendly, onnx, coloredlogs, onnxruntime\n",
      "\u001b[33m  WARNING: The script humanfriendly is installed in '/home/jupyter/.local/bin' which is not on PATH.\n",
      "  Consider adding this directory to PATH or, if you prefer to suppress this warning, use --no-warn-script-location.\u001b[0m\u001b[33m\n",
      "\u001b[0m\u001b[33m  WARNING: The scripts backend-test-tools, check-model and check-node are installed in '/home/jupyter/.local/bin' which is not on PATH.\n",
      "  Consider adding this directory to PATH or, if you prefer to suppress this warning, use --no-warn-script-location.\u001b[0m\u001b[33m\n",
      "\u001b[0m\u001b[33m  WARNING: The script coloredlogs is installed in '/home/jupyter/.local/bin' which is not on PATH.\n",
      "  Consider adding this directory to PATH or, if you prefer to suppress this warning, use --no-warn-script-location.\u001b[0m\u001b[33m\n",
      "\u001b[0m\u001b[33m  WARNING: The script onnxruntime_test is installed in '/home/jupyter/.local/bin' which is not on PATH.\n",
      "  Consider adding this directory to PATH or, if you prefer to suppress this warning, use --no-warn-script-location.\u001b[0m\u001b[33m\n",
      "\u001b[0m\u001b[31mERROR: pip's dependency resolver does not currently take into account all the packages that are installed. This behaviour is the source of the following dependency conflicts.\n",
      "google-api-core 2.11.1 requires protobuf!=3.20.0,!=3.20.1,!=4.21.0,!=4.21.1,!=4.21.2,!=4.21.3,!=4.21.4,!=4.21.5,<5.0.0.dev0,>=3.19.5, but you have protobuf 6.31.0 which is incompatible.\n",
      "google-cloud-bigquery 3.10.0 requires protobuf!=3.20.0,!=3.20.1,!=4.21.0,!=4.21.1,!=4.21.2,!=4.21.3,!=4.21.4,!=4.21.5,<5.0.0dev,>=3.19.5, but you have protobuf 6.31.0 which is incompatible.\n",
      "google-cloud-bigquery-connection 1.12.1 requires protobuf!=3.20.0,!=3.20.1,!=4.21.0,!=4.21.1,!=4.21.2,!=4.21.3,!=4.21.4,!=4.21.5,<5.0.0dev,>=3.19.5, but you have protobuf 6.31.0 which is incompatible.\n",
      "google-cloud-bigquery-storage 2.22.0 requires protobuf!=3.20.0,!=3.20.1,!=4.21.0,!=4.21.1,!=4.21.2,!=4.21.3,!=4.21.4,!=4.21.5,<5.0.0dev,>=3.19.5, but you have protobuf 6.31.0 which is incompatible.\n",
      "google-cloud-datastore 2.15.2 requires protobuf!=3.20.0,!=3.20.1,!=4.21.0,!=4.21.1,!=4.21.2,!=4.21.3,!=4.21.4,!=4.21.5,<5.0.0dev,>=3.19.5, but you have protobuf 6.31.0 which is incompatible.\n",
      "google-cloud-firestore 2.11.1 requires protobuf!=3.20.0,!=3.20.1,!=4.21.0,!=4.21.1,!=4.21.2,!=4.21.3,!=4.21.4,!=4.21.5,<5.0.0dev,>=3.19.5, but you have protobuf 6.31.0 which is incompatible.\n",
      "google-cloud-functions 1.13.1 requires protobuf!=3.20.0,!=3.20.1,!=4.21.0,!=4.21.1,!=4.21.2,!=4.21.3,!=4.21.4,!=4.21.5,<5.0.0dev,>=3.19.5, but you have protobuf 6.31.0 which is incompatible.\n",
      "google-cloud-language 2.9.1 requires protobuf!=3.20.0,!=3.20.1,!=4.21.0,!=4.21.1,!=4.21.2,!=4.21.3,!=4.21.4,!=4.21.5,<5.0.0dev,>=3.19.5, but you have protobuf 6.31.0 which is incompatible.\n",
      "google-cloud-translate 3.11.2 requires protobuf!=3.20.0,!=3.20.1,!=4.21.0,!=4.21.1,!=4.21.2,!=4.21.3,!=4.21.4,!=4.21.5,<5.0.0dev,>=3.19.5, but you have protobuf 6.31.0 which is incompatible.\n",
      "googleapis-common-protos 1.59.1 requires protobuf!=3.20.0,!=3.20.1,!=4.21.1,!=4.21.2,!=4.21.3,!=4.21.4,!=4.21.5,<5.0.0.dev0,>=3.19.5, but you have protobuf 6.31.0 which is incompatible.\n",
      "grpc-google-iam-v1 0.12.6 requires protobuf!=3.20.0,!=3.20.1,!=4.21.1,!=4.21.2,!=4.21.3,!=4.21.4,!=4.21.5,<5.0.0dev,>=3.19.5, but you have protobuf 6.31.0 which is incompatible.\n",
      "proto-plus 1.22.3 requires protobuf<5.0.0dev,>=3.19.0, but you have protobuf 6.31.0 which is incompatible.\n",
      "tensorflow 2.12.0 requires protobuf!=4.21.0,!=4.21.1,!=4.21.2,!=4.21.3,!=4.21.4,!=4.21.5,<5.0.0dev,>=3.20.3, but you have protobuf 6.31.0 which is incompatible.\n",
      "tensorflow-metadata 1.13.1 requires protobuf<5,>=3.20.3, but you have protobuf 6.31.0 which is incompatible.\u001b[0m\u001b[31m\n",
      "\u001b[0mSuccessfully installed coloredlogs-15.0.1 humanfriendly-10.0 onnx-1.18.0 onnxruntime-1.22.0 protobuf-6.31.0\n",
      "\n",
      "\u001b[1m[\u001b[0m\u001b[34;49mnotice\u001b[0m\u001b[1;39;49m]\u001b[0m\u001b[39;49m A new release of pip is available: \u001b[0m\u001b[31;49m23.0.1\u001b[0m\u001b[39;49m -> \u001b[0m\u001b[32;49m25.1.1\u001b[0m\n",
      "\u001b[1m[\u001b[0m\u001b[34;49mnotice\u001b[0m\u001b[1;39;49m]\u001b[0m\u001b[39;49m To update, run: \u001b[0m\u001b[32;49mpython3 -m pip install --upgrade pip\u001b[0m\n"
     ]
    }
   ],
   "source": [
    "# pip install transformers==4.30.1\n",
    "%pip install onnx onnxruntime"
   ]
  },
  {
   "cell_type": "code",
   "execution_count": 22,
   "id": "cfaf10f28e9443bc",
   "metadata": {
    "execution": {
     "iopub.execute_input": "2025-05-19T17:43:29.926654Z",
     "iopub.status.busy": "2025-05-19T17:43:29.925777Z",
     "iopub.status.idle": "2025-05-19T17:43:29.945224Z",
     "shell.execute_reply": "2025-05-19T17:43:29.944663Z",
     "shell.execute_reply.started": "2025-05-19T17:43:29.926618Z"
    },
    "tags": []
   },
   "outputs": [],
   "source": [
    "import os\n",
    "import torch\n",
    "import torch.nn as nn\n",
    "\n",
    "import albumentations as A\n",
    "import numpy as np\n",
    "from PIL import Image\n",
    "from torch.utils.data import Dataset, DataLoader\n",
    "from transformers import BeitForImageClassification, SwinForImageClassification, ViTForImageClassification, ViTConfig\n",
    "from torch.optim import AdamW\n",
    "from albumentations.pytorch import ToTensorV2\n",
    "from sklearn.metrics import accuracy_score, f1_score\n",
    "\n",
    "from torch.cuda.amp import autocast, GradScaler\n",
    "from transformers import BeitImageProcessor\n",
    "import requests\n",
    "from tqdm import tqdm\n",
    "import matplotlib.pyplot as plt\n",
    "from sklearn.utils.class_weight import compute_class_weight\n",
    "import json"
   ]
  },
  {
   "cell_type": "code",
   "execution_count": 2,
   "id": "5b85570b7d84b39f",
   "metadata": {
    "ExecuteTime": {
     "end_time": "2025-05-17T13:51:58.279261Z",
     "start_time": "2025-05-17T13:51:58.253938Z"
    },
    "execution": {
     "iopub.execute_input": "2025-05-19T10:05:09.405087Z",
     "iopub.status.busy": "2025-05-19T10:05:09.404365Z",
     "iopub.status.idle": "2025-05-19T10:05:09.530798Z",
     "shell.execute_reply": "2025-05-19T10:05:09.530010Z",
     "shell.execute_reply.started": "2025-05-19T10:05:09.405061Z"
    },
    "tags": []
   },
   "outputs": [
    {
     "data": {
      "text/plain": [
       "'2.0.1+cu118'"
      ]
     },
     "execution_count": 2,
     "metadata": {},
     "output_type": "execute_result"
    }
   ],
   "source": [
    "torch.__version__"
   ]
  },
  {
   "cell_type": "code",
   "execution_count": 3,
   "id": "4a59f002ce6f8dc1",
   "metadata": {
    "ExecuteTime": {
     "end_time": "2025-05-17T12:42:22.712757Z",
     "start_time": "2025-05-17T12:42:22.706303Z"
    },
    "execution": {
     "iopub.execute_input": "2025-05-19T10:05:09.532360Z",
     "iopub.status.busy": "2025-05-19T10:05:09.531550Z",
     "iopub.status.idle": "2025-05-19T10:05:09.565191Z",
     "shell.execute_reply": "2025-05-19T10:05:09.564461Z",
     "shell.execute_reply.started": "2025-05-19T10:05:09.532333Z"
    },
    "tags": []
   },
   "outputs": [],
   "source": [
    "train_path = \"split_dataset/train\"\n",
    "val_path = \"split_dataset/val\"\n",
    "test_path = \"split_dataset/test\""
   ]
  },
  {
   "cell_type": "code",
   "execution_count": 4,
   "id": "59ed7040ad9566ef",
   "metadata": {
    "ExecuteTime": {
     "end_time": "2025-05-17T12:42:22.955060Z",
     "start_time": "2025-05-17T12:42:22.947884Z"
    },
    "execution": {
     "iopub.execute_input": "2025-05-19T10:05:09.567406Z",
     "iopub.status.busy": "2025-05-19T10:05:09.566631Z",
     "iopub.status.idle": "2025-05-19T10:05:09.594769Z",
     "shell.execute_reply": "2025-05-19T10:05:09.594119Z",
     "shell.execute_reply.started": "2025-05-19T10:05:09.567373Z"
    },
    "tags": []
   },
   "outputs": [],
   "source": [
    "# Конфигурация\n",
    "config = {\n",
    "    \"model_name\": \"google/vit-base-patch16-224\",\n",
    "    \"data_path\": \"/path/to/your/data\",  # Папка с train/val/test подпапками\n",
    "    \"img_size\": 224,\n",
    "    \"batch_size\": 64,\n",
    "    \"epochs\": 10,\n",
    "    \"lr\": 3e-5,\n",
    "    \"num_workers\": 4,\n",
    "    \"device\": \"cuda\" if torch.cuda.is_available() else \"cpu\"\n",
    "}"
   ]
  },
  {
   "cell_type": "code",
   "execution_count": 5,
   "id": "1de5e9d9271fa880",
   "metadata": {
    "ExecuteTime": {
     "end_time": "2025-05-17T12:42:23.439569Z",
     "start_time": "2025-05-17T12:42:23.420844Z"
    },
    "execution": {
     "iopub.execute_input": "2025-05-19T10:05:09.596775Z",
     "iopub.status.busy": "2025-05-19T10:05:09.595560Z",
     "iopub.status.idle": "2025-05-19T10:05:09.619131Z",
     "shell.execute_reply": "2025-05-19T10:05:09.618358Z",
     "shell.execute_reply.started": "2025-05-19T10:05:09.596739Z"
    },
    "tags": []
   },
   "outputs": [],
   "source": [
    "# Аугментации с Albumentations\n",
    "train_transform = A.Compose([\n",
    "    A.Resize(config['img_size'], config['img_size']),\n",
    "    A.HorizontalFlip(p=0.5),\n",
    "    A.VerticalFlip(p=0.2),\n",
    "    A.Rotate(limit=20, p=0.3),\n",
    "    A.RandomBrightnessContrast(p=0.3),\n",
    "    A.Normalize(mean=[0.5, 0.5, 0.5], std=[0.5, 0.5, 0.5]),  # BEiT-specific normalization\n",
    "    ToTensorV2()\n",
    "])\n",
    "\n",
    "val_transform = A.Compose([\n",
    "    A.Resize(config['img_size'], config['img_size']),\n",
    "    A.Normalize(mean=[0.5, 0.5, 0.5], std=[0.5, 0.5, 0.5]),\n",
    "    ToTensorV2()\n",
    "])\n",
    "\n",
    "test_transform = A.Compose([\n",
    "    A.Resize(config['img_size'], config['img_size']),\n",
    "    A.Normalize(mean=[0.5, 0.5, 0.5], std=[0.5, 0.5, 0.5]),\n",
    "    ToTensorV2()\n",
    "])"
   ]
  },
  {
   "cell_type": "code",
   "execution_count": 6,
   "id": "c194bd260327997f",
   "metadata": {
    "ExecuteTime": {
     "end_time": "2025-05-17T12:42:23.817207Z",
     "start_time": "2025-05-17T12:42:23.804284Z"
    },
    "execution": {
     "iopub.execute_input": "2025-05-19T10:05:09.621069Z",
     "iopub.status.busy": "2025-05-19T10:05:09.620106Z",
     "iopub.status.idle": "2025-05-19T10:05:09.635563Z",
     "shell.execute_reply": "2025-05-19T10:05:09.634939Z",
     "shell.execute_reply.started": "2025-05-19T10:05:09.621023Z"
    },
    "tags": []
   },
   "outputs": [],
   "source": [
    "class CustomDataset(Dataset):\n",
    "    def __init__(self, root_dir, transform=None):\n",
    "        self.classes = sorted(os.listdir(root_dir))\n",
    "        self.class_to_idx = {cls: i for i, cls in enumerate(self.classes)}\n",
    "        self.get_class = {i: cls for i, cls in enumerate(self.classes)}\n",
    "        self.samples = []\n",
    "        self.transform = transform\n",
    "\n",
    "        for cls in self.classes:\n",
    "            cls_dir = os.path.join(root_dir, cls)\n",
    "            for img_name in os.listdir(cls_dir):\n",
    "                self.samples.append((\n",
    "                    os.path.join(cls_dir, img_name),\n",
    "                    self.class_to_idx[cls]\n",
    "                ))\n",
    "        self.targets = np.unique([label for _, label in self.samples])\n",
    "\n",
    "    def __len__(self):\n",
    "        return len(self.samples)\n",
    "\n",
    "    def __getitem__(self, idx):\n",
    "        img_path, label = self.samples[idx]\n",
    "        image = np.array(Image.open(img_path).convert(\"RGB\"))\n",
    "\n",
    "        if self.transform:\n",
    "            augmented = self.transform(image=image)\n",
    "            image = augmented[\"image\"]\n",
    "\n",
    "        return image, torch.tensor(label, dtype=torch.long)"
   ]
  },
  {
   "cell_type": "code",
   "execution_count": 7,
   "id": "4d2a2ba6c5628334",
   "metadata": {
    "ExecuteTime": {
     "end_time": "2025-05-17T12:42:25.578757Z",
     "start_time": "2025-05-17T12:42:24.164190Z"
    },
    "execution": {
     "iopub.execute_input": "2025-05-19T10:05:09.637497Z",
     "iopub.status.busy": "2025-05-19T10:05:09.636488Z",
     "iopub.status.idle": "2025-05-19T10:05:10.076906Z",
     "shell.execute_reply": "2025-05-19T10:05:10.076300Z",
     "shell.execute_reply.started": "2025-05-19T10:05:09.637463Z"
    },
    "tags": []
   },
   "outputs": [],
   "source": [
    "# Инициализация данных\n",
    "train_dataset = CustomDataset(\n",
    "    train_path,\n",
    "    transform=train_transform\n",
    ")\n",
    "val_dataset = CustomDataset(\n",
    "    val_path,\n",
    "    transform=val_transform\n",
    ")\n",
    "test_dataset = CustomDataset(\n",
    "    test_path,\n",
    "    transform=test_transform\n",
    ")\n",
    "\n",
    "train_loader = DataLoader(\n",
    "    train_dataset,\n",
    "    batch_size=config['batch_size'],\n",
    "    shuffle=True,\n",
    "    num_workers=config['num_workers']\n",
    ")\n",
    "val_loader = DataLoader(\n",
    "    val_dataset,\n",
    "    batch_size=config['batch_size'],\n",
    "    shuffle=False,\n",
    "    num_workers=config['num_workers']\n",
    ")\n",
    "test_loader = DataLoader(\n",
    "    test_dataset,\n",
    "    batch_size=config['batch_size'],\n",
    "    shuffle=False,\n",
    "    num_workers=config['num_workers']\n",
    ")"
   ]
  },
  {
   "cell_type": "code",
   "execution_count": 8,
   "id": "377fa86b708c42bd",
   "metadata": {
    "ExecuteTime": {
     "end_time": "2025-05-17T12:42:30.664725Z",
     "start_time": "2025-05-17T12:42:26.073771Z"
    },
    "execution": {
     "iopub.execute_input": "2025-05-19T10:05:10.077951Z",
     "iopub.status.busy": "2025-05-19T10:05:10.077601Z",
     "iopub.status.idle": "2025-05-19T10:05:11.068084Z",
     "shell.execute_reply": "2025-05-19T10:05:11.067501Z",
     "shell.execute_reply.started": "2025-05-19T10:05:10.077922Z"
    },
    "tags": []
   },
   "outputs": [
    {
     "name": "stderr",
     "output_type": "stream",
     "text": [
      "/home/jupyter/.local/lib/python3.10/site-packages/huggingface_hub/file_download.py:943: FutureWarning: `resume_download` is deprecated and will be removed in version 1.0.0. Downloads always resume when possible. If you want to force a new download, use `force_download=True`.\n",
      "  warnings.warn(\n",
      "Some weights of ViTForImageClassification were not initialized from the model checkpoint at google/vit-base-patch16-224 and are newly initialized because the shapes did not match:\n",
      "- classifier.bias: found shape torch.Size([1000]) in the checkpoint and torch.Size([144]) in the model instantiated\n",
      "- classifier.weight: found shape torch.Size([1000, 768]) in the checkpoint and torch.Size([144, 768]) in the model instantiated\n",
      "You should probably TRAIN this model on a down-stream task to be able to use it for predictions and inference.\n"
     ]
    }
   ],
   "source": [
    "model_config = ViTConfig.from_pretrained(\n",
    "    config['model_name'],\n",
    "    num_labels=len(train_dataset.classes)\n",
    ")\n",
    "model_config.hidden_dropout_prob = 0.2               \n",
    "model_config.attention_probs_dropout_prob = 0.1      \n",
    "\n",
    "model = ViTForImageClassification.from_pretrained(\n",
    "    config['model_name'],\n",
    "    config=model_config,\n",
    "    ignore_mismatched_sizes=True\n",
    ").to(config[\"device\"])"
   ]
  },
  {
   "cell_type": "code",
   "execution_count": 9,
   "id": "327e1c6a-c15b-4f2d-b039-462aa516495d",
   "metadata": {
    "execution": {
     "iopub.execute_input": "2025-05-19T10:05:11.069934Z",
     "iopub.status.busy": "2025-05-19T10:05:11.069016Z",
     "iopub.status.idle": "2025-05-19T10:05:11.102823Z",
     "shell.execute_reply": "2025-05-19T10:05:11.102236Z",
     "shell.execute_reply.started": "2025-05-19T10:05:11.069893Z"
    },
    "tags": []
   },
   "outputs": [],
   "source": [
    "class_weights = compute_class_weight(\n",
    "    class_weight='balanced',\n",
    "    classes=np.arange(len(train_dataset.classes)),\n",
    "    y=train_dataset.targets  # или y=все метки train датасета\n",
    ")\n",
    "weights_tensor = torch.tensor(class_weights, dtype=torch.float).to(config['device'])\n",
    "\n",
    "# 3. Заменяем встроенный лосс\n",
    "model.loss = nn.CrossEntropyLoss(weight=weights_tensor)"
   ]
  },
  {
   "cell_type": "code",
   "execution_count": 11,
   "id": "eaf2df6994bc3496",
   "metadata": {
    "ExecuteTime": {
     "end_time": "2025-05-17T12:42:30.683669Z",
     "start_time": "2025-05-17T12:42:30.674696Z"
    },
    "execution": {
     "iopub.execute_input": "2025-05-19T11:11:36.832339Z",
     "iopub.status.busy": "2025-05-19T11:11:36.831401Z",
     "iopub.status.idle": "2025-05-19T11:11:36.862572Z",
     "shell.execute_reply": "2025-05-19T11:11:36.861920Z",
     "shell.execute_reply.started": "2025-05-19T11:11:36.832310Z"
    },
    "tags": []
   },
   "outputs": [],
   "source": [
    "optimizer = AdamW([\n",
    "    {\"params\": model.vit.parameters(), \"lr\": 3e-5},\n",
    "    {\"params\": model.classifier.parameters(), \"lr\": 2e-4},\n",
    "], weight_decay=0.01)"
   ]
  },
  {
   "cell_type": "code",
   "execution_count": 12,
   "id": "133bda6ea7b172e4",
   "metadata": {
    "ExecuteTime": {
     "end_time": "2025-05-17T12:42:31.106661Z",
     "start_time": "2025-05-17T12:42:31.088512Z"
    },
    "execution": {
     "iopub.execute_input": "2025-05-19T11:11:38.735536Z",
     "iopub.status.busy": "2025-05-19T11:11:38.734486Z",
     "iopub.status.idle": "2025-05-19T11:11:38.775311Z",
     "shell.execute_reply": "2025-05-19T11:11:38.774618Z",
     "shell.execute_reply.started": "2025-05-19T11:11:38.735495Z"
    },
    "tags": []
   },
   "outputs": [],
   "source": [
    "def train_model(model, train_loader, val_loader, optimizer, config):\n",
    "    device = config['device']\n",
    "    epochs = config['epochs']\n",
    "    scaler = GradScaler()\n",
    "\n",
    "    history = {'train_loss': [], 'val_loss': [],\n",
    "               'train_acc': [], 'val_acc': [],\n",
    "               'train_f1': [], 'val_f1': []}\n",
    "    for epoch in range(epochs):\n",
    "        # Training\n",
    "        model.train()\n",
    "        train_loss = 0\n",
    "        train_preds = []\n",
    "        train_labels = []\n",
    "\n",
    "        with tqdm(train_loader,\n",
    "                  unit=\"batch\",\n",
    "                  desc=f\"Epoch {epoch+1}/{epochs} [Train]\") as tepoch:\n",
    "            for images, labels in tepoch:\n",
    "                images = images.to(device)\n",
    "                labels = labels.to(device)\n",
    "\n",
    "                optimizer.zero_grad()\n",
    "                with autocast():\n",
    "                    outputs = model(pixel_values=images, labels=labels)\n",
    "                    loss = outputs.loss\n",
    "                \n",
    "                scaler.scale(loss).backward()\n",
    "                scaler.step(optimizer)\n",
    "                scaler.update()\n",
    "\n",
    "                # loss.backward()\n",
    "                # optimizer.step()\n",
    "\n",
    "                train_loss += loss.item()\n",
    "                preds = torch.argmax(outputs.logits, dim=1)\n",
    "\n",
    "                train_preds.extend(preds.cpu().numpy())\n",
    "                train_labels.extend(labels.cpu().numpy())\n",
    "                tepoch.set_postfix({\n",
    "                    'loss': loss.item(),\n",
    "                    'acc': accuracy_score(train_labels, train_preds),\n",
    "                    'f1': f1_score(train_labels, train_preds, average='weighted')\n",
    "                })\n",
    "\n",
    "        # Validation\n",
    "        model.eval()\n",
    "        val_loss = 0\n",
    "        val_preds = []\n",
    "        val_labels = []\n",
    "\n",
    "        with torch.no_grad(), tqdm(val_loader, unit=\"batch\", desc=f\"Epoch {epoch+1}/{epochs} [Val]\") as tepoch:\n",
    "            for images, labels in tepoch:\n",
    "                images = images.to(device)\n",
    "                labels = labels.to(device)\n",
    "\n",
    "                outputs = model(pixel_values=images, labels=labels)\n",
    "                val_loss += outputs.loss.item()\n",
    "\n",
    "                preds = torch.argmax(outputs.logits, dim=1)\n",
    "                val_preds.extend(preds.cpu().numpy())\n",
    "                val_labels.extend(labels.cpu().numpy())\n",
    "\n",
    "                tepoch.set_postfix({\n",
    "                    'val_loss': loss.item(),\n",
    "                    'val_acc': accuracy_score(val_labels, val_preds),\n",
    "                    'val_f1': f1_score(val_labels, val_preds, average='weighted')\n",
    "                })\n",
    "\n",
    "        # Метрики\n",
    "        train_loss = train_loss / len(train_loader)\n",
    "        val_loss = val_loss / len(val_loader)\n",
    "        train_acc = accuracy_score(train_labels, train_preds)\n",
    "        val_acc = accuracy_score(val_labels, val_preds)\n",
    "        train_f1 = f1_score(train_labels, train_preds, average='weighted')\n",
    "        val_f1 = f1_score(val_labels, val_preds, average='weighted')\n",
    "\n",
    "        history['train_loss'].append(train_loss)\n",
    "        history['val_loss'].append(val_loss)\n",
    "        history['train_acc'].append(train_acc)\n",
    "        history['val_acc'].append(val_acc)\n",
    "        history['train_f1'].append(train_f1)\n",
    "        history['val_f1'].append(val_f1)\n",
    "\n",
    "    return history"
   ]
  },
  {
   "cell_type": "code",
   "execution_count": 13,
   "id": "2487e88a-80a2-4938-a6cc-5599da08d715",
   "metadata": {
    "execution": {
     "iopub.execute_input": "2025-05-19T11:11:39.360818Z",
     "iopub.status.busy": "2025-05-19T11:11:39.359938Z",
     "iopub.status.idle": "2025-05-19T11:11:39.379627Z",
     "shell.execute_reply": "2025-05-19T11:11:39.379064Z",
     "shell.execute_reply.started": "2025-05-19T11:11:39.360779Z"
    },
    "tags": []
   },
   "outputs": [],
   "source": [
    "def plot_training_history(history):\n",
    "    epochs = range(1, len(history['train_loss']) + 1)\n",
    "\n",
    "    plt.figure(figsize=(18, 5))\n",
    "\n",
    "    # 1. Loss\n",
    "    plt.subplot(1, 3, 1)\n",
    "    plt.plot(epochs, history['train_loss'], label='Train Loss')\n",
    "    plt.plot(epochs, history['val_loss'], label='Val Loss')\n",
    "    plt.xlabel('Epoch')\n",
    "    plt.ylabel('Loss')\n",
    "    plt.title('Loss per Epoch')\n",
    "    plt.legend()\n",
    "    plt.grid(True)\n",
    "\n",
    "    # 2. Accuracy\n",
    "    plt.subplot(1, 3, 2)\n",
    "    plt.plot(epochs, history['train_acc'], label='Train Acc')\n",
    "    plt.plot(epochs, history['val_acc'], label='Val Acc')\n",
    "    plt.xlabel('Epoch')\n",
    "    plt.ylabel('Accuracy')\n",
    "    plt.title('Accuracy per Epoch')\n",
    "    plt.legend()\n",
    "    plt.grid(True)\n",
    "\n",
    "    # 3. F1-score\n",
    "    plt.subplot(1, 3, 3)\n",
    "    plt.plot(epochs, history['train_f1'], label='Train F1')\n",
    "    plt.plot(epochs, history['val_f1'], label='Val F1')\n",
    "    plt.xlabel('Epoch')\n",
    "    plt.ylabel('F1-score')\n",
    "    plt.title('F1-score per Epoch')\n",
    "    plt.legend()\n",
    "    plt.grid(True)\n",
    "\n",
    "    plt.tight_layout()\n",
    "    plt.savefig(\"vit_history.png\")\n",
    "    plt.show()"
   ]
  },
  {
   "cell_type": "code",
   "execution_count": null,
   "id": "4febbeea12337f83",
   "metadata": {
    "ExecuteTime": {
     "end_time": "2025-05-17T13:05:51.595533500Z",
     "start_time": "2025-05-17T12:42:31.823845Z"
    },
    "execution": {
     "iopub.execute_input": "2025-05-19T11:11:40.346358Z",
     "iopub.status.busy": "2025-05-19T11:11:40.345676Z",
     "iopub.status.idle": "2025-05-19T16:34:32.025015Z"
    },
    "tags": []
   },
   "outputs": [
    {
     "name": "stderr",
     "output_type": "stream",
     "text": [
      "Epoch 1/10 [Train]: 100%|██████████| 2988/2988 [27:12<00:00,  1.83batch/s, loss=3.05, acc=0.262, f1=0.192]  \n",
      "Epoch 1/10 [Val]: 100%|██████████| 747/747 [04:47<00:00,  2.60batch/s, val_loss=3.05, val_acc=0.297, val_f1=0.239] \n",
      "Epoch 2/10 [Train]: 100%|██████████| 2988/2988 [27:22<00:00,  1.82batch/s, loss=2.99, acc=0.312, f1=0.255]\n",
      "Epoch 2/10 [Val]: 100%|██████████| 747/747 [04:48<00:00,  2.59batch/s, val_loss=2.99, val_acc=0.315, val_f1=0.271]\n",
      "Epoch 3/10 [Train]: 100%|██████████| 2988/2988 [27:23<00:00,  1.82batch/s, loss=2.91, acc=0.342, f1=0.293]\n",
      "Epoch 3/10 [Val]: 100%|██████████| 747/747 [04:47<00:00,  2.60batch/s, val_loss=2.91, val_acc=0.329, val_f1=0.294]\n",
      "Epoch 5/10 [Train]: 100%|██████████| 2988/2988 [27:28<00:00,  1.81batch/s, loss=2.74, acc=0.393, f1=0.355]\n",
      "Epoch 5/10 [Val]: 100%|██████████| 747/747 [04:48<00:00,  2.59batch/s, val_loss=2.74, val_acc=0.338, val_f1=0.305]\n",
      "Epoch 6/10 [Val]: 100%|██████████| 747/747 [04:48<00:00,  2.59batch/s, val_loss=2.43, val_acc=0.34, val_f1=0.31]  \n",
      "Epoch 7/10 [Train]: 100%|██████████| 2988/2988 [27:31<00:00,  1.81batch/s, loss=2.14, acc=0.445, f1=0.415]\n",
      "Epoch 7/10 [Val]: 100%|██████████| 747/747 [04:48<00:00,  2.59batch/s, val_loss=2.14, val_acc=0.335, val_f1=0.31] \n",
      "Epoch 8/10 [Train]: 100%|██████████| 2988/2988 [27:34<00:00,  1.81batch/s, loss=1.67, acc=0.469, f1=0.444]\n",
      "Epoch 8/10 [Val]: 100%|██████████| 747/747 [04:48<00:00,  2.59batch/s, val_loss=1.67, val_acc=0.331, val_f1=0.311]\n",
      "Epoch 9/10 [Train]: 100%|██████████| 2988/2988 [27:33<00:00,  1.81batch/s, loss=1.8, acc=0.501, f1=0.479] \n",
      "Epoch 9/10 [Val]: 100%|██████████| 747/747 [04:49<00:00,  2.58batch/s, val_loss=1.8, val_acc=0.327, val_f1=0.311]\n",
      "Epoch 10/10 [Train]: 100%|██████████| 2988/2988 [27:35<00:00,  1.80batch/s, loss=2.11, acc=0.532, f1=0.514]\n",
      "Epoch 10/10 [Val]: 100%|██████████| 747/747 [04:48<00:00,  2.59batch/s, val_loss=2.11, val_acc=0.321, val_f1=0.307]\n"
     ]
    }
   ],
   "source": [
    "history = train_model(model, train_loader, val_loader, optimizer, config)"
   ]
  },
  {
   "cell_type": "code",
   "execution_count": null,
   "id": "62c6714f-d6e5-4d69-97b2-f9e182da22a5",
   "metadata": {
    "execution": {
     "iopub.execute_input": "2025-05-19T16:34:32.027406Z",
     "iopub.status.busy": "2025-05-19T16:34:32.026587Z",
     "iopub.status.idle": "2025-05-19T16:34:32.850644Z"
    },
    "tags": []
   },
   "outputs": [
    {
     "data": {
      "image/png": "[encoded data removed]",
      "text/plain": [
       "<Figure size 1800x500 with 3 Axes>"
      ]
     },
     "metadata": {},
     "output_type": "display_data"
    }
   ],
   "source": [
    "plot_training_history(history)"
   ]
  },
  {
   "cell_type": "code",
   "execution_count": null,
   "id": "11941ac032279a3b",
   "metadata": {
    "ExecuteTime": {
     "end_time": "2025-05-15T23:16:08.724382Z",
     "start_time": "2025-05-15T23:16:08.241576Z"
    },
    "execution": {
     "iopub.execute_input": "2025-05-19T16:34:32.852884Z",
     "iopub.status.busy": "2025-05-19T16:34:32.851617Z",
     "iopub.status.idle": "2025-05-19T16:34:57.830635Z"
    },
    "tags": []
   },
   "outputs": [
    {
     "name": "stderr",
     "output_type": "stream",
     "text": [
      "/home/jupyter/.local/lib/python3.10/site-packages/transformers/models/vit/modeling_vit.py:170: TracerWarning: Converting a tensor to a Python boolean might cause the trace to be incorrect. We can't record the data flow of Python values, so this value will be treated as a constant in the future. This means that the trace might not generalize to other inputs!\n",
      "  if num_channels != self.num_channels:\n",
      "/home/jupyter/.local/lib/python3.10/site-packages/transformers/models/vit/modeling_vit.py:176: TracerWarning: Converting a tensor to a Python boolean might cause the trace to be incorrect. We can't record the data flow of Python values, so this value will be treated as a constant in the future. This means that the trace might not generalize to other inputs!\n",
      "  if height != self.image_size[0] or width != self.image_size[1]:\n"
     ]
    }
   ],
   "source": [
    "# class WrappedVit(nn.Module):\n",
    "#     def __init__(self, model):\n",
    "#         super().__init__()\n",
    "#         self.model = model  # HuggingFace SwinForImageClassification\n",
    "\n",
    "#     def forward(self, x):\n",
    "#         return self.model(x).logits  # возвращаем только тензор логитов\n",
    "\n",
    "# # Оборачиваем\n",
    "# wrapped_model = WrappedVit(model)\n",
    "# wrapped_model.eval().cpu()\n",
    "\n",
    "# # dummy input\n",
    "# dummy_input = torch.randn(1, 3, 224, 224)\n",
    "\n",
    "# # трассируем\n",
    "# traced = torch.jit.trace(wrapped_model, dummy_input)\n",
    "# traced.save(\"model_vit.pt\")"
   ]
  },
  {
   "cell_type": "code",
   "execution_count": 25,
   "id": "a97a93f2c5ccdd29",
   "metadata": {
    "ExecuteTime": {
     "end_time": "2025-05-15T23:17:10.365622Z",
     "start_time": "2025-05-15T23:17:08.323475Z"
    }
   },
   "outputs": [],
   "source": []
  },
  {
   "cell_type": "code",
   "execution_count": 20,
   "id": "5e83980fc7ce99b8",
   "metadata": {
    "ExecuteTime": {
     "start_time": "2025-05-15T23:18:41.896249Z"
    },
    "execution": {
     "iopub.execute_input": "2025-05-19T16:50:33.351410Z",
     "iopub.status.busy": "2025-05-19T16:50:33.350581Z",
     "iopub.status.idle": "2025-05-19T16:50:58.085881Z",
     "shell.execute_reply": "2025-05-19T16:50:58.085267Z",
     "shell.execute_reply.started": "2025-05-19T16:50:33.351379Z"
    },
    "tags": []
   },
   "outputs": [
    {
     "name": "stdout",
     "output_type": "stream",
     "text": [
      "============= Diagnostic Run torch.onnx.export version 2.0.1+cu118 =============\n",
      "verbose: False, log level: Level.ERROR\n",
      "======================= 0 NONE 0 NOTE 0 WARNING 0 ERROR ========================\n",
      "\n"
     ]
    }
   ],
   "source": [
    "model.eval().cpu()\n",
    "dummy_input = torch.randn(1, 3, 224, 224)\n",
    "torch.onnx.export(\n",
    "    model,\n",
    "    dummy_input,\n",
    "    \"vit_model.onnx\",\n",
    "    input_names=[\"pixel_values\"],\n",
    "    output_names=[\"logits\"],\n",
    "    dynamic_axes={\"pixel_values\": {0: \"batch_size\"}, \"logits\": {0: \"batch_size\"}},\n",
    "    opset_version=11\n",
    ")"
   ]
  },
  {
   "cell_type": "code",
   "execution_count": null,
   "id": "9b792f317a59283",
   "metadata": {
    "ExecuteTime": {
     "end_time": "2025-05-17T18:00:40.669527Z",
     "start_time": "2025-05-17T18:00:40.643977Z"
    }
   },
   "outputs": [],
   "source": []
  },
  {
   "cell_type": "code",
   "execution_count": 23,
   "id": "47c35d0ee5c2a9af",
   "metadata": {
    "ExecuteTime": {
     "end_time": "2025-05-16T16:32:37.180348Z",
     "start_time": "2025-05-16T16:28:30.088158Z"
    },
    "execution": {
     "iopub.execute_input": "2025-05-19T17:43:40.390184Z",
     "iopub.status.busy": "2025-05-19T17:43:40.389156Z",
     "iopub.status.idle": "2025-05-19T17:43:40.403510Z",
     "shell.execute_reply": "2025-05-19T17:43:40.402986Z",
     "shell.execute_reply.started": "2025-05-19T17:43:40.390146Z"
    },
    "tags": []
   },
   "outputs": [],
   "source": [
    "# Сохранение в файл\n",
    "with open('vocab.json', 'w', encoding='utf-8') as f:\n",
    "    json.dump(train_dataset.get_class, f, ensure_ascii=False, indent=4)"
   ]
  },
  {
   "cell_type": "code",
   "execution_count": null,
   "id": "6c84329d-473f-42ed-97b1-1ef4bce8a6d8",
   "metadata": {},
   "outputs": [],
   "source": []
  },
  {
   "cell_type": "code",
   "execution_count": null,
   "id": "5f4f5871-8fa3-4997-9380-67c8de16e906",
   "metadata": {},
   "outputs": [],
   "source": []
  }
 ],
 "metadata": {
  "kernelspec": {
   "display_name": "DataSphere Kernel",
   "language": "python",
   "name": "python3"
  },
  "language_info": {
   "codemirror_mode": {
    "name": "ipython",
    "version": 3
   },
   "file_extension": ".py",
   "mimetype": "text/x-python",
   "name": "python",
   "nbconvert_exporter": "python",
   "pygments_lexer": "ipython3",
   "version": "3.10.12"
  }
 },
 "nbformat": 4,
 "nbformat_minor": 5
}
