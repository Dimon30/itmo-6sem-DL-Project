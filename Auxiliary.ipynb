{
 "cells": [
  {
   "cell_type": "code",
   "execution_count": 2,
   "id": "2f567ae6-29c3-439a-baab-0f0f1e5932d7",
   "metadata": {
    "execution": {
     "iopub.execute_input": "2025-05-17T22:22:10.720514Z",
     "iopub.status.busy": "2025-05-17T22:22:10.719463Z",
     "iopub.status.idle": "2025-05-17T23:42:53.582234Z",
     "shell.execute_reply": "2025-05-17T23:42:53.581411Z",
     "shell.execute_reply.started": "2025-05-17T22:22:10.720473Z"
    },
    "tags": []
   },
   "outputs": [],
   "source": [
    "import zipfile\n",
    "import os\n",
    "import shutil\n",
    "\n",
    "zip_path = 'split_dataset.zip'\n",
    "extract_to = 'split_dataset/'\n",
    "os.makedirs(extract_to, exist_ok=True)\n",
    "\n",
    "with zipfile.ZipFile(zip_path, 'r') as zip_ref:\n",
    "    for member in zip_ref.infolist():\n",
    "        # Убираем верхний уровень директории\n",
    "        path_parts = member.filename.split('/', 1)\n",
    "        if len(path_parts) == 2:\n",
    "            relative_path = path_parts[1]\n",
    "            if relative_path:\n",
    "                target_path = os.path.join(extract_to, relative_path)\n",
    "                if member.is_dir():\n",
    "                    os.makedirs(target_path, exist_ok=True)\n",
    "                else:\n",
    "                    os.makedirs(os.path.dirname(target_path), exist_ok=True)\n",
    "                    with zip_ref.open(member) as source, open(target_path, 'wb') as target:\n",
    "                        shutil.copyfileobj(source, target)"
   ]
  }
 ],
 "metadata": {
  "kernelspec": {
   "display_name": "DataSphere Kernel",
   "language": "python",
   "name": "python3"
  },
  "language_info": {
   "codemirror_mode": {
    "name": "ipython",
    "version": 3
   },
   "file_extension": ".py",
   "mimetype": "text/x-python",
   "name": "python",
   "nbconvert_exporter": "python",
   "pygments_lexer": "ipython3",
   "version": "3.10.12"
  }
 },
 "nbformat": 4,
 "nbformat_minor": 5
}
