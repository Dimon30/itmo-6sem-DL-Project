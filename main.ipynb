{
 "cells": [
  {
   "cell_type": "code",
   "id": "initial_id",
   "metadata": {
    "collapsed": true,
    "ExecuteTime": {
     "end_time": "2025-05-16T21:18:47.448874Z",
     "start_time": "2025-05-16T21:18:28.045556Z"
    }
   },
   "source": [
    "import os\n",
    "import torch\n",
    "import albumentations as A\n",
    "import numpy as np\n",
    "from PIL import Image\n",
    "from torch.utils.data import Dataset, DataLoader\n",
    "from transformers import BeitForImageClassification\n",
    "from torch.optim import AdamW\n",
    "from albumentations.pytorch import ToTensorV2\n",
    "from sklearn.metrics import accuracy_score\n",
    "\n",
    "from transformers import BeitImageProcessor\n",
    "import requests\n",
    "import tqdm"
   ],
   "outputs": [],
   "execution_count": 1
  },
  {
   "metadata": {
    "ExecuteTime": {
     "end_time": "2025-05-16T16:46:04.760907Z",
     "start_time": "2025-05-16T16:46:04.754379Z"
    }
   },
   "cell_type": "code",
   "source": [
    "train_path = \"split_dataset_masha/train\"\n",
    "val_path = \"split_dataset_masha/val\"\n",
    "test_path = \"split_dataset_masha/test\""
   ],
   "id": "4a59f002ce6f8dc1",
   "outputs": [],
   "execution_count": 2
  },
  {
   "metadata": {
    "ExecuteTime": {
     "end_time": "2025-05-16T16:46:04.799940Z",
     "start_time": "2025-05-16T16:46:04.793971Z"
    }
   },
   "cell_type": "code",
   "source": [
    "# Конфигурация\n",
    "config = {\n",
    "    \"model_name\": \"microsoft/beit-large-patch16-224-pt22k-ft22k\",\n",
    "    \"data_path\": \"/path/to/your/data\",  # Папка с train/val/test подпапками\n",
    "    \"img_size\": 224,\n",
    "    \"batch_size\": 64,\n",
    "    \"epochs\": 5,\n",
    "    \"lr\": 3e-5,\n",
    "    \"num_workers\": 4,\n",
    "    \"device\": \"cuda\" if torch.cuda.is_available() else \"cpu\"\n",
    "}"
   ],
   "id": "59ed7040ad9566ef",
   "outputs": [],
   "execution_count": 3
  },
  {
   "metadata": {
    "ExecuteTime": {
     "end_time": "2025-05-16T16:46:04.841021Z",
     "start_time": "2025-05-16T16:46:04.824089Z"
    }
   },
   "cell_type": "code",
   "source": [
    "# Аугментации с Albumentations\n",
    "train_transform = A.Compose([\n",
    "    A.Resize(config['img_size'], config['img_size']),\n",
    "    A.HorizontalFlip(p=0.5),\n",
    "    A.VerticalFlip(p=0.2),\n",
    "    A.Rotate(limit=20, p=0.3),\n",
    "    A.RandomBrightnessContrast(p=0.3),\n",
    "    A.Normalize(mean=[0.5, 0.5, 0.5], std=[0.5, 0.5, 0.5]),  # BEiT-specific normalization\n",
    "    ToTensorV2()\n",
    "])\n",
    "\n",
    "val_transform = A.Compose([\n",
    "    A.Resize(config['img_size'], config['img_size']),\n",
    "    A.Normalize(mean=[0.5, 0.5, 0.5], std=[0.5, 0.5, 0.5]),\n",
    "    ToTensorV2()\n",
    "])\n",
    "\n",
    "test_transform = A.Compose([\n",
    "    A.Resize(config['img_size'], config['img_size']),\n",
    "    A.Normalize(mean=[0.5, 0.5, 0.5], std=[0.5, 0.5, 0.5]),\n",
    "    ToTensorV2()\n",
    "])"
   ],
   "id": "1de5e9d9271fa880",
   "outputs": [],
   "execution_count": 4
  },
  {
   "metadata": {
    "ExecuteTime": {
     "end_time": "2025-05-16T16:46:04.874097Z",
     "start_time": "2025-05-16T16:46:04.864139Z"
    }
   },
   "cell_type": "code",
   "source": [
    "class CustomDataset(Dataset):\n",
    "    def __init__(self, root_dir, transform=None):\n",
    "        self.classes = sorted(os.listdir(root_dir))\n",
    "        self.class_to_idx = {cls: i for i, cls in enumerate(self.classes)}\n",
    "        self.get_class = {i: cls for i, cls in enumerate(self.classes)}\n",
    "        self.samples = []\n",
    "        self.transform = transform\n",
    "\n",
    "        for cls in self.classes:\n",
    "            cls_dir = os.path.join(root_dir, cls)\n",
    "            for img_name in os.listdir(cls_dir):\n",
    "                self.samples.append((\n",
    "                    os.path.join(cls_dir, img_name),\n",
    "                    self.class_to_idx[cls]\n",
    "                ))\n",
    "\n",
    "    def __len__(self):\n",
    "        return len(self.samples)\n",
    "\n",
    "    def __getitem__(self, idx):\n",
    "        img_path, label = self.samples[idx]\n",
    "        image = np.array(Image.open(img_path).convert(\"RGB\"))\n",
    "\n",
    "        if self.transform:\n",
    "            augmented = self.transform(image=image)\n",
    "            image = augmented[\"image\"]\n",
    "\n",
    "        return image, torch.tensor(label, dtype=torch.long)"
   ],
   "id": "c194bd260327997f",
   "outputs": [],
   "execution_count": 5
  },
  {
   "metadata": {
    "ExecuteTime": {
     "end_time": "2025-05-16T16:46:05.893647Z",
     "start_time": "2025-05-16T16:46:04.906620Z"
    }
   },
   "cell_type": "code",
   "source": [
    "# Инициализация данных\n",
    "train_dataset = CustomDataset(\n",
    "    train_path,\n",
    "    transform=train_transform\n",
    ")\n",
    "val_dataset = CustomDataset(\n",
    "    val_path,\n",
    "    transform=val_transform\n",
    ")\n",
    "test_dataset = CustomDataset(\n",
    "    test_path,\n",
    "    transform=test_transform\n",
    ")\n",
    "\n",
    "train_loader = DataLoader(\n",
    "    train_dataset,\n",
    "    batch_size=config['batch_size'],\n",
    "    shuffle=True,\n",
    "    num_workers=config['num_workers']\n",
    ")\n",
    "val_loader = DataLoader(\n",
    "    val_dataset,\n",
    "    batch_size=config['batch_size'],\n",
    "    shuffle=False,\n",
    "    num_workers=config['num_workers']\n",
    ")\n",
    "test_loader = DataLoader(\n",
    "    test_dataset,\n",
    "    batch_size=config['batch_size'],\n",
    "    shuffle=False,\n",
    "    num_workers=config['num_workers']\n",
    ")"
   ],
   "id": "4d2a2ba6c5628334",
   "outputs": [],
   "execution_count": 6
  },
  {
   "metadata": {
    "ExecuteTime": {
     "end_time": "2025-05-16T16:46:06.636028Z",
     "start_time": "2025-05-16T16:46:05.900741Z"
    }
   },
   "cell_type": "code",
   "source": "loss_fn = torch.nn.CrossEntropyLoss()",
   "id": "2326f4e8067df729",
   "outputs": [],
   "execution_count": 7
  },
  {
   "metadata": {
    "ExecuteTime": {
     "end_time": "2025-05-16T16:46:11.455154Z",
     "start_time": "2025-05-16T16:46:06.658618Z"
    }
   },
   "cell_type": "code",
   "source": [
    "model = BeitForImageClassification.from_pretrained(\n",
    "    config['model_name'],\n",
    "    num_labels=len(train_dataset.classes),\n",
    "    ignore_mismatched_sizes=True\n",
    ").to(config[\"device\"])"
   ],
   "id": "377fa86b708c42bd",
   "outputs": [
    {
     "name": "stderr",
     "output_type": "stream",
     "text": [
      "Some weights of BeitForImageClassification were not initialized from the model checkpoint at microsoft/beit-large-patch16-224-pt22k-ft22k and are newly initialized because the shapes did not match:\n",
      "- classifier.weight: found shape torch.Size([21841, 1024]) in the checkpoint and torch.Size([144, 1024]) in the model instantiated\n",
      "- classifier.bias: found shape torch.Size([21841]) in the checkpoint and torch.Size([144]) in the model instantiated\n",
      "You should probably TRAIN this model on a down-stream task to be able to use it for predictions and inference.\n"
     ]
    }
   ],
   "execution_count": 8
  },
  {
   "metadata": {
    "ExecuteTime": {
     "end_time": "2025-05-16T16:46:11.492597Z",
     "start_time": "2025-05-16T16:46:11.480272Z"
    }
   },
   "cell_type": "code",
   "source": "optimizer = AdamW(model.parameters(), lr=config['lr'])",
   "id": "eaf2df6994bc3496",
   "outputs": [],
   "execution_count": 9
  },
  {
   "metadata": {
    "ExecuteTime": {
     "end_time": "2025-05-16T16:47:37.098451800Z",
     "start_time": "2025-05-16T16:46:32.090862Z"
    }
   },
   "cell_type": "code",
   "source": [
    "def train_model(model, train_loader, val_loader, optimizer, config):\n",
    "    device = config['device']\n",
    "    for epoch in range(config['epochs']):\n",
    "        # Training\n",
    "        model.train()\n",
    "        train_loss = 0\n",
    "        for images, labels in train_loader:\n",
    "            images = images.to(device)\n",
    "            labels = labels.to(device)\n",
    "\n",
    "            outputs = model(pixel_values=images, labels=labels)\n",
    "            loss = outputs.loss\n",
    "\n",
    "            loss.backward()\n",
    "            optimizer.step()\n",
    "            optimizer.zero_grad()\n",
    "\n",
    "            train_loss += loss.item()\n",
    "\n",
    "        # Validation\n",
    "        model.eval()\n",
    "        val_loss = 0\n",
    "        all_preds = []\n",
    "        all_labels = []\n",
    "        with torch.no_grad():\n",
    "            for images, labels in val_loader:\n",
    "                images = images.cuda()\n",
    "                labels = labels.cuda()\n",
    "\n",
    "                outputs = model(pixel_values=images, labels=labels)\n",
    "                val_loss += outputs.loss.item()\n",
    "\n",
    "                preds = torch.argmax(outputs.logits, dim=1)\n",
    "                all_preds.extend(preds.cpu().numpy())\n",
    "                all_labels.extend(labels.cpu().numpy())\n",
    "\n",
    "        # Метрики\n",
    "        train_loss /= len(train_loader)\n",
    "        val_loss /= len(val_loader)\n",
    "        val_acc = accuracy_score(all_labels, all_preds)\n",
    "\n",
    "        print(f\"Epoch {epoch+1}/{config['epochs']}\")\n",
    "        print(f\"Train Loss: {train_loss:.4f} | Val Loss: {val_loss:.4f} | Val Acc: {val_acc:.4f}\")"
   ],
   "id": "133bda6ea7b172e4",
   "outputs": [],
   "execution_count": null
  },
  {
   "metadata": {},
   "cell_type": "code",
   "outputs": [],
   "execution_count": null,
   "source": "",
   "id": "4febbeea12337f83"
  },
  {
   "metadata": {
    "ExecuteTime": {
     "end_time": "2025-05-15T23:16:08.724382Z",
     "start_time": "2025-05-15T23:16:08.241576Z"
    }
   },
   "cell_type": "code",
   "source": "# torch.save(model.state_dict(), \"fine_tuned_beit.pth\")",
   "id": "11941ac032279a3b",
   "outputs": [],
   "execution_count": 24
  },
  {
   "metadata": {
    "ExecuteTime": {
     "end_time": "2025-05-15T23:17:10.365622Z",
     "start_time": "2025-05-15T23:17:08.323475Z"
    }
   },
   "cell_type": "code",
   "source": "",
   "id": "a97a93f2c5ccdd29",
   "outputs": [],
   "execution_count": 25
  },
  {
   "metadata": {
    "ExecuteTime": {
     "start_time": "2025-05-15T23:18:41.896249Z"
    }
   },
   "cell_type": "code",
   "source": "",
   "id": "5e83980fc7ce99b8",
   "outputs": [],
   "execution_count": null
  },
  {
   "metadata": {
    "ExecuteTime": {
     "end_time": "2025-05-16T15:52:58.905423Z",
     "start_time": "2025-05-16T15:52:58.898065Z"
    }
   },
   "cell_type": "code",
   "source": "",
   "id": "9b792f317a59283",
   "outputs": [],
   "execution_count": null
  },
  {
   "metadata": {
    "ExecuteTime": {
     "end_time": "2025-05-16T16:32:37.180348Z",
     "start_time": "2025-05-16T16:28:30.088158Z"
    }
   },
   "cell_type": "code",
   "source": [
    "url = 'http://images.cocodataset.org/val2017/000000039769.jpg'\n",
    "image = Image.open(requests.get(url, stream=True).raw)\n",
    "\n",
    "processor = BeitImageProcessor.from_pretrained('microsoft/beit-large-patch16-224-pt22k-ft22k')\n",
    "model = BeitForImageClassification.from_pretrained('microsoft/beit-large-patch16-224-pt22k-ft22k')\n",
    "\n",
    "inputs = processor(images=image, return_tensors=\"pt\")\n",
    "\n",
    "outputs = model(**inputs)\n",
    "logits = outputs.logits\n",
    "\n",
    "# model predicts one of the 21,841 ImageNet-22k classes\n",
    "predicted_class_idx = logits.argmax(-1).item()\n",
    "print(\"Predicted class:\", model.config.id2label[predicted_class_idx])"
   ],
   "id": "47c35d0ee5c2a9af",
   "outputs": [
    {
     "data": {
      "text/plain": [
       "preprocessor_config.json:   0%|          | 0.00/276 [00:00<?, ?B/s]"
      ],
      "application/vnd.jupyter.widget-view+json": {
       "version_major": 2,
       "version_minor": 0,
       "model_id": "79c259c05bd946808358ae2dda1c24f2"
      }
     },
     "metadata": {},
     "output_type": "display_data"
    },
    {
     "name": "stderr",
     "output_type": "stream",
     "text": [
      "C:\\Users\\Admin\\anaconda3\\Lib\\site-packages\\transformers\\utils\\deprecation.py:172: UserWarning: The following named arguments are not valid for `BeitImageProcessor.__init__` and were ignored: 'feature_extractor_type'\n",
      "  return func(*args, **kwargs)\n"
     ]
    },
    {
     "data": {
      "text/plain": [
       "config.json:   0%|          | 0.00/1.67M [00:00<?, ?B/s]"
      ],
      "application/vnd.jupyter.widget-view+json": {
       "version_major": 2,
       "version_minor": 0,
       "model_id": "a453a71bd15846f8b75ad44e6ca54c73"
      }
     },
     "metadata": {},
     "output_type": "display_data"
    },
    {
     "data": {
      "text/plain": [
       "pytorch_model.bin:   0%|          | 0.00/1.31G [00:00<?, ?B/s]"
      ],
      "application/vnd.jupyter.widget-view+json": {
       "version_major": 2,
       "version_minor": 0,
       "model_id": "e04fcb00167c416a9eecc8c62be6c153"
      }
     },
     "metadata": {},
     "output_type": "display_data"
    },
    {
     "name": "stdout",
     "output_type": "stream",
     "text": [
      "Predicted class: kitten, kitty\n"
     ]
    }
   ],
   "execution_count": 6
  }
 ],
 "metadata": {
  "kernelspec": {
   "display_name": "Python 3",
   "language": "python",
   "name": "python3"
  },
  "language_info": {
   "codemirror_mode": {
    "name": "ipython",
    "version": 2
   },
   "file_extension": ".py",
   "mimetype": "text/x-python",
   "name": "python",
   "nbconvert_exporter": "python",
   "pygments_lexer": "ipython2",
   "version": "2.7.6"
  }
 },
 "nbformat": 4,
 "nbformat_minor": 5
}
